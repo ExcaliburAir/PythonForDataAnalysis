{
 "cells": [
  {
   "cell_type": "code",
   "execution_count": 1,
   "metadata": {},
   "outputs": [
    {
     "data": {
      "text/plain": [
       "'\\n\\xe5\\xbf\\xab\\xe9\\x80\\x9f\\xe9\\xab\\x98\\xe6\\x95\\x88\\xe7\\x9a\\x84\\xe5\\xa4\\x9a\\xe7\\xbb\\xb4\\xe6\\x95\\xb0\\xe7\\xbb\\x84ndarry\\xe3\\x80\\x82\\n\\xe7\\x94\\xa8\\xe4\\xba\\x8e\\xe5\\xaf\\xb9\\xe6\\x95\\xb0\\xe7\\xbb\\x84\\xe8\\xbf\\x9b\\xe8\\xa1\\x8c\\xe5\\x85\\x83\\xe7\\xb4\\xa0\\xe7\\xba\\xa7\\xe8\\xae\\xa1\\xe7\\xae\\x97\\xe4\\xbb\\xa5\\xe5\\x8f\\x8a\\xe7\\x9b\\xb4\\xe6\\x8e\\xa5\\xe5\\xaf\\xb9\\xe6\\x95\\xb0\\xe7\\xbb\\x84\\xe8\\xbf\\x9b\\xe8\\xa1\\x8c\\xe6\\x95\\xb0\\xe5\\xad\\xa6\\xe8\\xbf\\x90\\xe7\\xae\\x97\\xe3\\x80\\x82\\n\\xe7\\x94\\xa8\\xe4\\xba\\x8e\\xe8\\xaf\\xbb\\xe5\\x86\\x99\\xe7\\xa1\\xac\\xe7\\x9b\\x98\\xe4\\xb8\\x8a\\xe7\\x9a\\x84\\xe5\\x9f\\xba\\xe4\\xba\\x8e\\xe6\\x95\\xb0\\xe7\\xbb\\x84\\xe7\\x9a\\x84\\xe6\\x95\\xb0\\xe6\\x8d\\xae\\xe9\\x9b\\x86\\xe5\\xb7\\xa5\\xe5\\x85\\xb7\\xe3\\x80\\x82\\n\\xe7\\xba\\xbf\\xe6\\x80\\xa7\\xe4\\xbb\\xa3\\xe6\\x95\\xb0\\xe8\\xbf\\x90\\xe7\\xae\\x97\\xef\\xbc\\x8c\\xe5\\x82\\x85\\xe7\\xab\\x8b\\xe5\\x8f\\xb6\\xe5\\x8f\\x98\\xe6\\x8d\\xa2\\xef\\xbc\\x8c\\xe7\\x94\\x9f\\xe6\\x88\\x90\\xe9\\x9a\\x8f\\xe6\\x9c\\xba\\xe6\\x95\\xb0\\xe3\\x80\\x82\\n\\xe5\\x8f\\xaf\\xe4\\xbb\\xa5\\xe5\\xb0\\x86C\\xef\\xbc\\x8cC++\\xef\\xbc\\x8cfortran\\xe7\\x9a\\x84\\xe4\\xbb\\xa3\\xe7\\xa0\\x81\\xe9\\x9b\\x86\\xe6\\x88\\x90\\xe5\\x88\\xb0Python\\xe3\\x80\\x82\\n'"
      ]
     },
     "execution_count": 1,
     "metadata": {},
     "output_type": "execute_result"
    }
   ],
   "source": [
    "# Numpy\n",
    "'''\n",
    "快速高效的多维数组ndarry。\n",
    "用于对数组进行元素级计算以及直接对数组进行数学运算。\n",
    "用于读写硬盘上的基于数组的数据集工具。\n",
    "线性代数运算，傅立叶变换，生成随机数。\n",
    "可以将C，C++，fortran的代码集成到Python。\n",
    "'''"
   ]
  },
  {
   "cell_type": "code",
   "execution_count": 2,
   "metadata": {},
   "outputs": [
    {
     "data": {
      "text/plain": [
       "'\\n\\xe5\\xa4\\x84\\xe7\\x90\\x86\\xe5\\xa4\\xa7\\xe9\\x87\\x8f\\xe7\\xbb\\x93\\xe6\\x9e\\x84\\xe5\\x8c\\x96\\xe6\\x95\\xb0\\xe6\\x8d\\xae\\xef\\xbc\\x8c\\xe6\\x98\\xafNumpy\\xe7\\x9a\\x84\\xe9\\xab\\x98\\xe7\\xba\\xac\\xe5\\xba\\xa6\\xe5\\xa4\\x84\\xe7\\x90\\x86\\xe3\\x80\\x82\\n'"
      ]
     },
     "execution_count": 2,
     "metadata": {},
     "output_type": "execute_result"
    }
   ],
   "source": [
    "# Pandas\n",
    "'''\n",
    "处理大量结构化数据，是Numpy的高纬度处理。\n",
    "'''"
   ]
  },
  {
   "cell_type": "code",
   "execution_count": 3,
   "metadata": {
    "collapsed": true
   },
   "outputs": [],
   "source": [
    "# Matplotlib\n",
    "'''\n",
    "绘制图表的库。\n",
    "'''"
   ]
  },
  {
   "cell_type": "code",
   "execution_count": null,
   "metadata": {
    "collapsed": true
   },
   "outputs": [],
   "source": [
    "# IPython\n",
    "'''\n",
    "强大的python的IDE。\n",
    "'''"
   ]
  },
  {
   "cell_type": "code",
   "execution_count": null,
   "metadata": {
    "collapsed": true
   },
   "outputs": [],
   "source": [
    "# SciPy\n",
    "'''\n",
    "解决科学计算里的标准计算包的集合。\n",
    "scipy.integrate 数值积分例程和微分方程求解器。\n",
    "scipy.linalg 线性代数，矩阵分解。\n",
    "scipy.optimize 函数优化器，根查找算法。\n",
    "scipy.signal 信号处理工具。\n",
    "scipy.sparse 稀疏矩阵，稀疏线性求解器。\n",
    "scipy.special 实现很多函数的包装器。\n",
    "scipy.stats 标准连续离散概率分布，各种统计检验方法，描述统计法。\n",
    "scipy.weave 利用内联C++代码的加速器，加速代码计算。\n",
    "'''"
   ]
  },
  {
   "cell_type": "code",
   "execution_count": null,
   "metadata": {
    "collapsed": true
   },
   "outputs": [],
   "source": [
    "# 行话\n",
    "'''\n",
    "数据规整 将非结构化数据或散乱数据，转换成结构化数据。\n",
    "伪代码\n",
    "语法糖 不会带来逻辑或本质的更改，但使代码更易读。\n",
    "'''"
   ]
  }
 ],
 "metadata": {
  "kernelspec": {
   "display_name": "Python 2",
   "language": "python",
   "name": "python2"
  },
  "language_info": {
   "codemirror_mode": {
    "name": "ipython",
    "version": 2
   },
   "file_extension": ".py",
   "mimetype": "text/x-python",
   "name": "python",
   "nbconvert_exporter": "python",
   "pygments_lexer": "ipython2",
   "version": "2.7.12"
  }
 },
 "nbformat": 4,
 "nbformat_minor": 2
}
