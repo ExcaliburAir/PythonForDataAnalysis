{
 "cells": [
  {
   "cell_type": "code",
   "execution_count": 1,
   "metadata": {},
   "outputs": [
    {
     "data": {
      "text/plain": [
       "'\\n1.ndarray\\xef\\xbc\\x8c\\xe4\\xb8\\x80\\xe4\\xb8\\xaa\\xe5\\x85\\xb7\\xe6\\x9c\\x89\\xe7\\x9f\\xa2\\xe9\\x87\\x8f\\xe7\\xae\\x97\\xe6\\x9c\\xaf\\xe8\\xbf\\x90\\xe7\\xae\\x97\\xe5\\x92\\x8c\\xe5\\xa4\\x8d\\xe6\\x9d\\x82\\xe5\\xb9\\xbf\\xe6\\x92\\xad\\xe8\\x83\\xbd\\xe5\\x8a\\x9b\\xe7\\x9a\\x84\\xe5\\xbf\\xab\\xe9\\x80\\x9f\\xe4\\xb8\\x94\\xe8\\x8a\\x82\\xe7\\x9c\\x81\\xe7\\xa9\\xba\\xe9\\x97\\xb4\\xe7\\x9a\\x84\\xe5\\xa4\\x9a\\xe7\\xbb\\xb4\\xe6\\x95\\xb0\\xe7\\xbb\\x84\\xe3\\x80\\x82\\n2.\\xe7\\x94\\xa8\\xe4\\xba\\x8e\\xe5\\xaf\\xb9\\xe6\\x95\\xb4\\xe7\\xbb\\x84\\xe6\\x95\\xb0\\xe6\\x8d\\xae\\xe8\\xbf\\x9b\\xe8\\xa1\\x8c\\xe5\\xbf\\xab\\xe9\\x80\\x9f\\xe8\\xbf\\x90\\xe7\\xae\\x97\\xe7\\x9a\\x84\\xe6\\xa0\\x87\\xe5\\x87\\x86\\xe6\\x95\\xb0\\xe5\\xad\\xa6\\xe5\\x87\\xbd\\xe6\\x95\\xb0\\xef\\xbc\\x88\\xe6\\x97\\xa0\\xe9\\x9c\\x80\\xe7\\xbc\\x96\\xe5\\x86\\x99\\xe5\\xbe\\xaa\\xe7\\x8e\\xaf\\xef\\xbc\\x89\\xe3\\x80\\x82\\n3.\\xe7\\x94\\xa8\\xe4\\xba\\x8e\\xe7\\xbc\\x96\\xe5\\x86\\x99\\xe7\\xa3\\x81\\xe7\\x9b\\x98\\xe6\\x95\\xb0\\xe6\\x8d\\xae\\xe7\\x9a\\x84\\xe5\\xb7\\xa5\\xe5\\x85\\xb7\\xe4\\xbb\\xa5\\xe5\\x8f\\x8a\\xe7\\x94\\xa8\\xe4\\xba\\x8e\\xe6\\x93\\x8d\\xe4\\xbd\\x9c\\xe5\\x86\\x85\\xe5\\xad\\x98\\xe6\\x98\\xa0\\xe5\\xb0\\x84\\xe6\\x96\\x87\\xe4\\xbb\\xb6\\xe7\\x9a\\x84\\xe5\\xb7\\xa5\\xe5\\x85\\xb7\\xe3\\x80\\x82\\n4.\\xe7\\xba\\xbf\\xe6\\x80\\xa7\\xe4\\xbb\\xa3\\xe6\\x95\\xb0\\xef\\xbc\\x8c\\xe9\\x9a\\x8f\\xe6\\x9c\\xba\\xe6\\x95\\xb0\\xe7\\x94\\x9f\\xe6\\x88\\x90\\xe4\\xbb\\xa5\\xe5\\x8f\\x8a\\xe5\\x82\\x85\\xe7\\xab\\x8b\\xe5\\x8f\\xb6\\xe5\\x8f\\x98\\xe6\\x8d\\xa2\\xe5\\x8a\\x9f\\xe8\\x83\\xbd\\xe3\\x80\\x82\\n5.\\xe7\\x94\\xa8\\xe4\\xba\\x8e\\xe9\\x9b\\x86\\xe6\\x88\\x90\\xe7\\x94\\xb1C\\xef\\xbc\\x8cC++\\xef\\xbc\\x8cFortran\\xe7\\xad\\x89\\xe8\\xaf\\xad\\xe8\\xa8\\x80\\xe7\\xbc\\x96\\xe5\\x86\\x99\\xe7\\x9a\\x84\\xe4\\xbb\\xa3\\xe7\\xa0\\x81\\xe5\\xb7\\xa5\\xe5\\x85\\xb7\\xe3\\x80\\x82\\n'"
      ]
     },
     "execution_count": 1,
     "metadata": {},
     "output_type": "execute_result"
    }
   ],
   "source": [
    "# NumPy基础：数组和矢量计算\n",
    "'''\n",
    "1.ndarray，一个具有矢量算术运算和复杂广播能力的快速且节省空间的多维数组。\n",
    "2.用于对整组数据进行快速运算的标准数学函数（无需编写循环）。\n",
    "3.用于编写磁盘数据的工具以及用于操作内存映射文件的工具。\n",
    "4.线性代数，随机数生成以及傅立叶变换功能。\n",
    "5.用于集成由C，C++，Fortran等语言编写的代码工具。\n",
    "'''"
   ]
  },
  {
   "cell_type": "code",
   "execution_count": null,
   "metadata": {
    "collapsed": true
   },
   "outputs": [],
   "source": [
    "# 大部分分析应用，作者关注的功能集中在\n",
    "'''\n",
    "1.用于数据和清理，子集构造和过滤，转换等快速的矢量化数组运算。\n",
    "2.常用的数组算法，排序，唯一化，集合运算。\n",
    "3.高效的描述统计和数据集合/摘要运算。\n",
    "4.用于异构数据集的合并/链接运算的数据对齐和关系型数据运算。\n",
    "5.将条件逻辑非表述为数组表达式。\n",
    "6.数据的分组运算（聚合，转换，函数应用）。\n",
    "'''"
   ]
  },
  {
   "cell_type": "code",
   "execution_count": 10,
   "metadata": {},
   "outputs": [
    {
     "name": "stdout",
     "output_type": "stream",
     "text": [
      "[[ 0.9526 -0.246  -0.8856]\n",
      " [ 0.5639  0.2379  0.9104]]\n",
      "[[ 9.526 -2.46  -8.856]\n",
      " [ 5.639  2.379  9.104]]\n",
      "[[ 1.9052 -0.492  -1.7712]\n",
      " [ 1.1278  0.4758  1.8208]]\n"
     ]
    },
    {
     "data": {
      "text/plain": [
       "dtype('float64')"
      ]
     },
     "execution_count": 10,
     "metadata": {},
     "output_type": "execute_result"
    }
   ],
   "source": [
    "import numpy as np\n",
    "\n",
    "# Numpy的ndarray：一种多维数组对象\n",
    "data = np.array([[0.9526, -0.246, -0.8856], [0.5639, 0.2379, 0.9104]])\n",
    "print(data)\n",
    "print(data*10)\n",
    "print(data + data)\n",
    "\n",
    "# 每个数组都有shape和一个dtype\n",
    "data.shape\n",
    "data.dtype"
   ]
  },
  {
   "cell_type": "code",
   "execution_count": 14,
   "metadata": {},
   "outputs": [
    {
     "data": {
      "text/plain": [
       "(2, 4)"
      ]
     },
     "execution_count": 14,
     "metadata": {},
     "output_type": "execute_result"
    }
   ],
   "source": [
    "# 创建ndarray\n",
    "data1 = [6, 7.5, 8., 0., 1.]\n",
    "arr1 = np.array(data1)\n",
    "arr1\n",
    "\n",
    "data2 = [[1, 2, 3, 4], [5, 6, 7, 8]]\n",
    "arr2 = np.array(data2)\n",
    "arr2\n",
    "\n",
    "arr2.ndim\n",
    "arr2.shape"
   ]
  },
  {
   "cell_type": "code",
   "execution_count": 18,
   "metadata": {},
   "outputs": [
    {
     "ename": "AttributeError",
     "evalue": "'module' object has no attribute 'arrange'",
     "output_type": "error",
     "traceback": [
      "\u001b[0;31m---------------------------------------------------------------------------\u001b[0m",
      "\u001b[0;31mAttributeError\u001b[0m                            Traceback (most recent call last)",
      "\u001b[0;32m<ipython-input-18-94dee87320fb>\u001b[0m in \u001b[0;36m<module>\u001b[0;34m()\u001b[0m\n\u001b[1;32m      2\u001b[0m \u001b[0mnp\u001b[0m\u001b[0;34m.\u001b[0m\u001b[0mzeros\u001b[0m\u001b[0;34m(\u001b[0m\u001b[0;34m(\u001b[0m\u001b[0;36m3\u001b[0m\u001b[0;34m,\u001b[0m \u001b[0;36m6\u001b[0m\u001b[0;34m)\u001b[0m\u001b[0;34m)\u001b[0m\u001b[0;34m\u001b[0m\u001b[0m\n\u001b[1;32m      3\u001b[0m \u001b[0mnp\u001b[0m\u001b[0;34m.\u001b[0m\u001b[0mempty\u001b[0m\u001b[0;34m(\u001b[0m\u001b[0;34m(\u001b[0m\u001b[0;36m2\u001b[0m\u001b[0;34m,\u001b[0m \u001b[0;36m3\u001b[0m\u001b[0;34m,\u001b[0m \u001b[0;36m2\u001b[0m\u001b[0;34m)\u001b[0m\u001b[0;34m)\u001b[0m\u001b[0;34m\u001b[0m\u001b[0m\n\u001b[0;32m----> 4\u001b[0;31m \u001b[0mnp\u001b[0m\u001b[0;34m.\u001b[0m\u001b[0marrange\u001b[0m\u001b[0;34m(\u001b[0m\u001b[0;36m15\u001b[0m\u001b[0;34m)\u001b[0m\u001b[0;34m\u001b[0m\u001b[0m\n\u001b[0m",
      "\u001b[0;31mAttributeError\u001b[0m: 'module' object has no attribute 'arrange'"
     ]
    }
   ],
   "source": [
    "np.zeros(10)\n",
    "np.zeros((3, 6))\n",
    "np.empty((2, 3, 2))\n",
    "np.arrange(15)"
   ]
  },
  {
   "cell_type": "code",
   "execution_count": 24,
   "metadata": {},
   "outputs": [
    {
     "ename": "ValueError",
     "evalue": "invalid literal for float(): 1,25",
     "output_type": "error",
     "traceback": [
      "\u001b[0;31m---------------------------------------------------------------------------\u001b[0m",
      "\u001b[0;31mValueError\u001b[0m                                Traceback (most recent call last)",
      "\u001b[0;32m<ipython-input-24-3b4d4908da73>\u001b[0m in \u001b[0;36m<module>\u001b[0;34m()\u001b[0m\n\u001b[1;32m     20\u001b[0m \u001b[0;34m\u001b[0m\u001b[0m\n\u001b[1;32m     21\u001b[0m \u001b[0mnumeric_strings\u001b[0m \u001b[0;34m=\u001b[0m \u001b[0mnp\u001b[0m\u001b[0;34m.\u001b[0m\u001b[0marray\u001b[0m\u001b[0;34m(\u001b[0m\u001b[0;34m[\u001b[0m\u001b[0;34m'1,25'\u001b[0m\u001b[0;34m,\u001b[0m \u001b[0;34m'-9.6'\u001b[0m\u001b[0;34m,\u001b[0m \u001b[0;34m'42'\u001b[0m\u001b[0;34m]\u001b[0m\u001b[0;34m,\u001b[0m \u001b[0mdtype\u001b[0m\u001b[0;34m=\u001b[0m\u001b[0mnp\u001b[0m\u001b[0;34m.\u001b[0m\u001b[0mstring_\u001b[0m\u001b[0;34m)\u001b[0m\u001b[0;34m\u001b[0m\u001b[0m\n\u001b[0;32m---> 22\u001b[0;31m \u001b[0mnumeric_strings\u001b[0m\u001b[0;34m.\u001b[0m\u001b[0mastype\u001b[0m\u001b[0;34m(\u001b[0m\u001b[0mfloat\u001b[0m\u001b[0;34m)\u001b[0m\u001b[0;34m\u001b[0m\u001b[0m\n\u001b[0m\u001b[1;32m     23\u001b[0m \u001b[0marray\u001b[0m\u001b[0;34m(\u001b[0m\u001b[0;34m[\u001b[0m\u001b[0;36m1.25\u001b[0m\u001b[0;34m,\u001b[0m \u001b[0;34m-\u001b[0m\u001b[0;36m9.6\u001b[0m\u001b[0;34m,\u001b[0m \u001b[0;36m42.\u001b[0m\u001b[0;34m]\u001b[0m\u001b[0;34m)\u001b[0m\u001b[0;34m\u001b[0m\u001b[0m\n\u001b[1;32m     24\u001b[0m \u001b[0;34m\u001b[0m\u001b[0m\n",
      "\u001b[0;31mValueError\u001b[0m: invalid literal for float(): 1,25"
     ]
    }
   ],
   "source": [
    "'''\n",
    "array 将输入数据转换为ndarray。要么推断出dtype，要么显式制定dtype。\n",
    "asarray 将输入转换为ndarray，如果输入本身就是一个ndarray就不进入。\n",
    "arange 类似于内置的range，但反悔的是一个ndarray而不是列表。\n",
    "ones，ones_like 类似于内置的range，但是反悔的是一个ndarray而不是列表。\n",
    "zeros，zeros_like 类似于ones和ones_like，只不过产生的全0数组而已。\n",
    "empty，empty_like 创建新数组，只分配内存空间但不填充任何值。\n",
    "eye，identity 创建一个正方形NxN单位矩阵\n",
    "'''\n",
    "\n",
    "# ndarray的数据类型\n",
    "arr = np.array([1, 2, 3, 4, 5])\n",
    "arr.dtype\n",
    "\n",
    "float_arr = arr.astype(np.float64)\n",
    "float_arr.dtype\n",
    "\n",
    "arr = np.array([3.7, -1.2, -2.6, 0.5, 12.9, 10.1])\n",
    "arr.astype(np.int32)\n",
    "\n",
    "numeric_strings = np.array(['1,25', '-9.6', '42'], dtype=np.string_)\n",
    "numeric_strings.astype(float)\n",
    "array([1.25, -9.6, 42.])\n",
    "\n",
    "int_array = np.arrange(10)\n",
    "calibers = np.array([.22, .270, .357, .380, .44, .50], dtype=np.float64)\n",
    "int_array.astype(calibers.dtype)"
   ]
  },
  {
   "cell_type": "code",
   "execution_count": 27,
   "metadata": {},
   "outputs": [
    {
     "data": {
      "text/plain": [
       "array([[ 1.        ,  1.41421356,  1.73205081],\n",
       "       [ 2.        ,  2.23606798,  2.44948974]])"
      ]
     },
     "execution_count": 27,
     "metadata": {},
     "output_type": "execute_result"
    }
   ],
   "source": [
    "# 数组和标量之间的运算\n",
    "arr = np.array([[1., 2., 3.], [4., 5., 6.]])\n",
    "arr * arr\n",
    "arr - arr\n",
    "1/ arr\n",
    "arr**0.5\n",
    "# 不同大小的数组之间的运算叫做广播"
   ]
  },
  {
   "cell_type": "code",
   "execution_count": 31,
   "metadata": {},
   "outputs": [
    {
     "name": "stdout",
     "output_type": "stream",
     "text": [
      "[0 1 2 3 4 5 6 7 8 9]\n",
      "5\n",
      "[5 6 7]\n"
     ]
    }
   ],
   "source": [
    "# 基本的索引和切片\n",
    "arr = np.arange(10)\n",
    "print(arr)\n",
    "print(arr[5])\n",
    "print(arr[5:8])"
   ]
  },
  {
   "cell_type": "code",
   "execution_count": 37,
   "metadata": {},
   "outputs": [
    {
     "data": {
      "text/plain": [
       "array([[1, 2, 3],\n",
       "       [4, 5, 6]])"
      ]
     },
     "execution_count": 37,
     "metadata": {},
     "output_type": "execute_result"
    }
   ],
   "source": [
    "arr2d = np.array([[1, 2, 3], [4, 5, 6], [7, 8, 9]])\n",
    "arr2d[2]\n",
    "arr2d[0, 2]\n",
    "arr3d = np.array([[[1, 2, 3], [4, 5, 6]], [[7, 8, 9], [10, 11, 12]]])\n",
    "arr3d[0]"
   ]
  },
  {
   "cell_type": "code",
   "execution_count": 41,
   "metadata": {},
   "outputs": [
    {
     "data": {
      "text/plain": [
       "array([7, 8, 9])"
      ]
     },
     "execution_count": 41,
     "metadata": {},
     "output_type": "execute_result"
    }
   ],
   "source": [
    "old_values = arr3d[0].copy()\n",
    "arr3d[0] = 42\n",
    "arr3d\n",
    "arr3d[0] = old_values\n",
    "arr3d[1, 0]"
   ]
  },
  {
   "cell_type": "code",
   "execution_count": 43,
   "metadata": {},
   "outputs": [
    {
     "data": {
      "text/plain": [
       "array([[2, 3],\n",
       "       [5, 6]])"
      ]
     },
     "execution_count": 43,
     "metadata": {},
     "output_type": "execute_result"
    }
   ],
   "source": [
    "# 切片索引\n",
    "arr[1:6]\n",
    "arr2d[:2, 1:]"
   ]
  },
  {
   "cell_type": "code",
   "execution_count": 61,
   "metadata": {},
   "outputs": [
    {
     "data": {
      "text/plain": [
       "False"
      ]
     },
     "execution_count": 61,
     "metadata": {},
     "output_type": "execute_result"
    }
   ],
   "source": [
    "# 布尔型索引\n",
    "names = np.array(['Bob', 'Joe', 'Will', 'Joe', 'Joe'])\n",
    "data = np.random.rand(7, 4)\n",
    "arrA = np.array([[1, 2, 3], [4, 5, 6], [7, 8, 9]])\n",
    "\n",
    "# 基本上[a：b]=[a=< x <b]\n",
    "arrA[1:, :2]\n",
    "names = 'Bob'\n",
    "data[names == 'Bob']\n",
    "data[names == 'Bob', 2:]\n",
    "names != 'Bob'"
   ]
  },
  {
   "cell_type": "code",
   "execution_count": 70,
   "metadata": {},
   "outputs": [
    {
     "name": "stdout",
     "output_type": "stream",
     "text": [
      "[[ 0  1  2  3]\n",
      " [ 4  5  6  7]\n",
      " [ 8  9 10 11]\n",
      " [12 13 14 15]\n",
      " [16 17 18 19]\n",
      " [20 21 22 23]\n",
      " [24 25 26 27]\n",
      " [28 29 30 31]]\n"
     ]
    },
    {
     "data": {
      "text/plain": [
       "array([[ 4,  7,  5,  6],\n",
       "       [20, 23, 21, 22],\n",
       "       [28, 31, 29, 30],\n",
       "       [ 8, 11,  9, 10]])"
      ]
     },
     "execution_count": 70,
     "metadata": {},
     "output_type": "execute_result"
    }
   ],
   "source": [
    "# 花式索引\n",
    "'''\n",
    "它指的是利用整数数组进行索引。\n",
    "'''\n",
    "arr = np.empty((8, 4))\n",
    "for i in range(8):\n",
    "    arr[i] = i\n",
    "arr\n",
    "\n",
    "# 用数组表达数组\n",
    "arr[[4, 3, 0, 6]]\n",
    "arr[[-3, -5, -7]]\n",
    "\n",
    "arr = np.arange(32).reshape((8, 4))\n",
    "print(arr)\n",
    "arr[[1, 5, 7, 2], [0, 3, 1, 2]]\n",
    "arr[np.ix_([1, 5, 7, 2], [0, 3, 1, 2])]"
   ]
  },
  {
   "cell_type": "code",
   "execution_count": 75,
   "metadata": {},
   "outputs": [
    {
     "data": {
      "text/plain": [
       "array([[  8.05692228,   2.70655598,   0.84277186],\n",
       "       [  2.70655598,   2.90252284,   0.65312014],\n",
       "       [  0.84277186,   0.65312014,  11.96711984]])"
      ]
     },
     "execution_count": 75,
     "metadata": {},
     "output_type": "execute_result"
    }
   ],
   "source": [
    "# 数组转置和轴对换\n",
    "arr = np.arange(15).reshape((3, 5))\n",
    "arr.T\n",
    "\n",
    "arr = np.random.randn(6, 3)\n",
    "np.dot(arr.T, arr)"
   ]
  },
  {
   "cell_type": "code",
   "execution_count": null,
   "metadata": {
    "collapsed": true
   },
   "outputs": [],
   "source": []
  },
  {
   "cell_type": "code",
   "execution_count": null,
   "metadata": {
    "collapsed": true
   },
   "outputs": [],
   "source": []
  },
  {
   "cell_type": "code",
   "execution_count": null,
   "metadata": {
    "collapsed": true
   },
   "outputs": [],
   "source": []
  },
  {
   "cell_type": "code",
   "execution_count": null,
   "metadata": {
    "collapsed": true
   },
   "outputs": [],
   "source": []
  },
  {
   "cell_type": "code",
   "execution_count": null,
   "metadata": {
    "collapsed": true
   },
   "outputs": [],
   "source": []
  },
  {
   "cell_type": "code",
   "execution_count": null,
   "metadata": {
    "collapsed": true
   },
   "outputs": [],
   "source": []
  },
  {
   "cell_type": "code",
   "execution_count": null,
   "metadata": {
    "collapsed": true
   },
   "outputs": [],
   "source": []
  },
  {
   "cell_type": "code",
   "execution_count": null,
   "metadata": {
    "collapsed": true
   },
   "outputs": [],
   "source": []
  },
  {
   "cell_type": "code",
   "execution_count": null,
   "metadata": {
    "collapsed": true
   },
   "outputs": [],
   "source": []
  }
 ],
 "metadata": {
  "kernelspec": {
   "display_name": "Python 2",
   "language": "python",
   "name": "python2"
  },
  "language_info": {
   "codemirror_mode": {
    "name": "ipython",
    "version": 2
   },
   "file_extension": ".py",
   "mimetype": "text/x-python",
   "name": "python",
   "nbconvert_exporter": "python",
   "pygments_lexer": "ipython2",
   "version": "2.7.12"
  }
 },
 "nbformat": 4,
 "nbformat_minor": 2
}
