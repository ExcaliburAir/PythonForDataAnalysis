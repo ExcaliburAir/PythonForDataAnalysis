{
 "cells": [
  {
   "cell_type": "code",
   "execution_count": 1,
   "metadata": {},
   "outputs": [
    {
     "data": {
      "text/plain": [
       "'\\n1.ndarray\\xef\\xbc\\x8c\\xe4\\xb8\\x80\\xe4\\xb8\\xaa\\xe5\\x85\\xb7\\xe6\\x9c\\x89\\xe7\\x9f\\xa2\\xe9\\x87\\x8f\\xe7\\xae\\x97\\xe6\\x9c\\xaf\\xe8\\xbf\\x90\\xe7\\xae\\x97\\xe5\\x92\\x8c\\xe5\\xa4\\x8d\\xe6\\x9d\\x82\\xe5\\xb9\\xbf\\xe6\\x92\\xad\\xe8\\x83\\xbd\\xe5\\x8a\\x9b\\xe7\\x9a\\x84\\xe5\\xbf\\xab\\xe9\\x80\\x9f\\xe4\\xb8\\x94\\xe8\\x8a\\x82\\xe7\\x9c\\x81\\xe7\\xa9\\xba\\xe9\\x97\\xb4\\xe7\\x9a\\x84\\xe5\\xa4\\x9a\\xe7\\xbb\\xb4\\xe6\\x95\\xb0\\xe7\\xbb\\x84\\xe3\\x80\\x82\\n2.\\xe7\\x94\\xa8\\xe4\\xba\\x8e\\xe5\\xaf\\xb9\\xe6\\x95\\xb4\\xe7\\xbb\\x84\\xe6\\x95\\xb0\\xe6\\x8d\\xae\\xe8\\xbf\\x9b\\xe8\\xa1\\x8c\\xe5\\xbf\\xab\\xe9\\x80\\x9f\\xe8\\xbf\\x90\\xe7\\xae\\x97\\xe7\\x9a\\x84\\xe6\\xa0\\x87\\xe5\\x87\\x86\\xe6\\x95\\xb0\\xe5\\xad\\xa6\\xe5\\x87\\xbd\\xe6\\x95\\xb0\\xef\\xbc\\x88\\xe6\\x97\\xa0\\xe9\\x9c\\x80\\xe7\\xbc\\x96\\xe5\\x86\\x99\\xe5\\xbe\\xaa\\xe7\\x8e\\xaf\\xef\\xbc\\x89\\xe3\\x80\\x82\\n3.\\xe7\\x94\\xa8\\xe4\\xba\\x8e\\xe7\\xbc\\x96\\xe5\\x86\\x99\\xe7\\xa3\\x81\\xe7\\x9b\\x98\\xe6\\x95\\xb0\\xe6\\x8d\\xae\\xe7\\x9a\\x84\\xe5\\xb7\\xa5\\xe5\\x85\\xb7\\xe4\\xbb\\xa5\\xe5\\x8f\\x8a\\xe7\\x94\\xa8\\xe4\\xba\\x8e\\xe6\\x93\\x8d\\xe4\\xbd\\x9c\\xe5\\x86\\x85\\xe5\\xad\\x98\\xe6\\x98\\xa0\\xe5\\xb0\\x84\\xe6\\x96\\x87\\xe4\\xbb\\xb6\\xe7\\x9a\\x84\\xe5\\xb7\\xa5\\xe5\\x85\\xb7\\xe3\\x80\\x82\\n4.\\xe7\\xba\\xbf\\xe6\\x80\\xa7\\xe4\\xbb\\xa3\\xe6\\x95\\xb0\\xef\\xbc\\x8c\\xe9\\x9a\\x8f\\xe6\\x9c\\xba\\xe6\\x95\\xb0\\xe7\\x94\\x9f\\xe6\\x88\\x90\\xe4\\xbb\\xa5\\xe5\\x8f\\x8a\\xe5\\x82\\x85\\xe7\\xab\\x8b\\xe5\\x8f\\xb6\\xe5\\x8f\\x98\\xe6\\x8d\\xa2\\xe5\\x8a\\x9f\\xe8\\x83\\xbd\\xe3\\x80\\x82\\n5.\\xe7\\x94\\xa8\\xe4\\xba\\x8e\\xe9\\x9b\\x86\\xe6\\x88\\x90\\xe7\\x94\\xb1C\\xef\\xbc\\x8cC++\\xef\\xbc\\x8cFortran\\xe7\\xad\\x89\\xe8\\xaf\\xad\\xe8\\xa8\\x80\\xe7\\xbc\\x96\\xe5\\x86\\x99\\xe7\\x9a\\x84\\xe4\\xbb\\xa3\\xe7\\xa0\\x81\\xe5\\xb7\\xa5\\xe5\\x85\\xb7\\xe3\\x80\\x82\\n'"
      ]
     },
     "execution_count": 1,
     "metadata": {},
     "output_type": "execute_result"
    }
   ],
   "source": [
    "# NumPy基础：数组和矢量计算\n",
    "'''\n",
    "1.ndarray，一个具有矢量算术运算和复杂广播能力的快速且节省空间的多维数组。\n",
    "2.用于对整组数据进行快速运算的标准数学函数（无需编写循环）。\n",
    "3.用于编写磁盘数据的工具以及用于操作内存映射文件的工具。\n",
    "4.线性代数，随机数生成以及傅立叶变换功能。\n",
    "5.用于集成由C，C++，Fortran等语言编写的代码工具。\n",
    "'''"
   ]
  },
  {
   "cell_type": "code",
   "execution_count": null,
   "metadata": {
    "collapsed": true
   },
   "outputs": [],
   "source": [
    "# 大部分分析应用，作者关注的功能集中在\n",
    "'''\n",
    "1.用于数据和清理，子集构造和过滤，转换等快速的矢量化数组运算。\n",
    "2.常用的数组算法，排序，唯一化，集合运算。\n",
    "3.高效的描述统计和数据集合/摘要运算。\n",
    "4.用于异构数据集的合并/链接运算的数据对齐和关系型数据运算。\n",
    "5.将条件逻辑非表述为数组表达式。\n",
    "6.数据的分组运算（聚合，转换，函数应用）。\n",
    "'''"
   ]
  },
  {
   "cell_type": "code",
   "execution_count": 10,
   "metadata": {},
   "outputs": [
    {
     "name": "stdout",
     "output_type": "stream",
     "text": [
      "[[ 0.9526 -0.246  -0.8856]\n",
      " [ 0.5639  0.2379  0.9104]]\n",
      "[[ 9.526 -2.46  -8.856]\n",
      " [ 5.639  2.379  9.104]]\n",
      "[[ 1.9052 -0.492  -1.7712]\n",
      " [ 1.1278  0.4758  1.8208]]\n"
     ]
    },
    {
     "data": {
      "text/plain": [
       "dtype('float64')"
      ]
     },
     "execution_count": 10,
     "metadata": {},
     "output_type": "execute_result"
    }
   ],
   "source": [
    "import numpy as np\n",
    "\n",
    "# Numpy的ndarray：一种多维数组对象\n",
    "data = np.array([[0.9526, -0.246, -0.8856], [0.5639, 0.2379, 0.9104]])\n",
    "print(data)\n",
    "print(data*10)\n",
    "print(data + data)\n",
    "\n",
    "# 每个数组都有shape和一个dtype\n",
    "data.shape\n",
    "data.dtype"
   ]
  },
  {
   "cell_type": "code",
   "execution_count": 14,
   "metadata": {},
   "outputs": [
    {
     "data": {
      "text/plain": [
       "(2, 4)"
      ]
     },
     "execution_count": 14,
     "metadata": {},
     "output_type": "execute_result"
    }
   ],
   "source": [
    "# 创建ndarray\n",
    "data1 = [6, 7.5, 8., 0., 1.]\n",
    "arr1 = np.array(data1)\n",
    "arr1\n",
    "\n",
    "data2 = [[1, 2, 3, 4], [5, 6, 7, 8]]\n",
    "arr2 = np.array(data2)\n",
    "arr2\n",
    "\n",
    "arr2.ndim\n",
    "arr2.shape"
   ]
  },
  {
   "cell_type": "code",
   "execution_count": 18,
   "metadata": {},
   "outputs": [
    {
     "ename": "AttributeError",
     "evalue": "'module' object has no attribute 'arrange'",
     "output_type": "error",
     "traceback": [
      "\u001b[0;31m---------------------------------------------------------------------------\u001b[0m",
      "\u001b[0;31mAttributeError\u001b[0m                            Traceback (most recent call last)",
      "\u001b[0;32m<ipython-input-18-94dee87320fb>\u001b[0m in \u001b[0;36m<module>\u001b[0;34m()\u001b[0m\n\u001b[1;32m      2\u001b[0m \u001b[0mnp\u001b[0m\u001b[0;34m.\u001b[0m\u001b[0mzeros\u001b[0m\u001b[0;34m(\u001b[0m\u001b[0;34m(\u001b[0m\u001b[0;36m3\u001b[0m\u001b[0;34m,\u001b[0m \u001b[0;36m6\u001b[0m\u001b[0;34m)\u001b[0m\u001b[0;34m)\u001b[0m\u001b[0;34m\u001b[0m\u001b[0m\n\u001b[1;32m      3\u001b[0m \u001b[0mnp\u001b[0m\u001b[0;34m.\u001b[0m\u001b[0mempty\u001b[0m\u001b[0;34m(\u001b[0m\u001b[0;34m(\u001b[0m\u001b[0;36m2\u001b[0m\u001b[0;34m,\u001b[0m \u001b[0;36m3\u001b[0m\u001b[0;34m,\u001b[0m \u001b[0;36m2\u001b[0m\u001b[0;34m)\u001b[0m\u001b[0;34m)\u001b[0m\u001b[0;34m\u001b[0m\u001b[0m\n\u001b[0;32m----> 4\u001b[0;31m \u001b[0mnp\u001b[0m\u001b[0;34m.\u001b[0m\u001b[0marrange\u001b[0m\u001b[0;34m(\u001b[0m\u001b[0;36m15\u001b[0m\u001b[0;34m)\u001b[0m\u001b[0;34m\u001b[0m\u001b[0m\n\u001b[0m",
      "\u001b[0;31mAttributeError\u001b[0m: 'module' object has no attribute 'arrange'"
     ]
    }
   ],
   "source": [
    "np.zeros(10)\n",
    "np.zeros((3, 6))\n",
    "np.empty((2, 3, 2))\n",
    "np.arrange(15)"
   ]
  },
  {
   "cell_type": "code",
   "execution_count": 24,
   "metadata": {},
   "outputs": [
    {
     "ename": "ValueError",
     "evalue": "invalid literal for float(): 1,25",
     "output_type": "error",
     "traceback": [
      "\u001b[0;31m---------------------------------------------------------------------------\u001b[0m",
      "\u001b[0;31mValueError\u001b[0m                                Traceback (most recent call last)",
      "\u001b[0;32m<ipython-input-24-3b4d4908da73>\u001b[0m in \u001b[0;36m<module>\u001b[0;34m()\u001b[0m\n\u001b[1;32m     20\u001b[0m \u001b[0;34m\u001b[0m\u001b[0m\n\u001b[1;32m     21\u001b[0m \u001b[0mnumeric_strings\u001b[0m \u001b[0;34m=\u001b[0m \u001b[0mnp\u001b[0m\u001b[0;34m.\u001b[0m\u001b[0marray\u001b[0m\u001b[0;34m(\u001b[0m\u001b[0;34m[\u001b[0m\u001b[0;34m'1,25'\u001b[0m\u001b[0;34m,\u001b[0m \u001b[0;34m'-9.6'\u001b[0m\u001b[0;34m,\u001b[0m \u001b[0;34m'42'\u001b[0m\u001b[0;34m]\u001b[0m\u001b[0;34m,\u001b[0m \u001b[0mdtype\u001b[0m\u001b[0;34m=\u001b[0m\u001b[0mnp\u001b[0m\u001b[0;34m.\u001b[0m\u001b[0mstring_\u001b[0m\u001b[0;34m)\u001b[0m\u001b[0;34m\u001b[0m\u001b[0m\n\u001b[0;32m---> 22\u001b[0;31m \u001b[0mnumeric_strings\u001b[0m\u001b[0;34m.\u001b[0m\u001b[0mastype\u001b[0m\u001b[0;34m(\u001b[0m\u001b[0mfloat\u001b[0m\u001b[0;34m)\u001b[0m\u001b[0;34m\u001b[0m\u001b[0m\n\u001b[0m\u001b[1;32m     23\u001b[0m \u001b[0marray\u001b[0m\u001b[0;34m(\u001b[0m\u001b[0;34m[\u001b[0m\u001b[0;36m1.25\u001b[0m\u001b[0;34m,\u001b[0m \u001b[0;34m-\u001b[0m\u001b[0;36m9.6\u001b[0m\u001b[0;34m,\u001b[0m \u001b[0;36m42.\u001b[0m\u001b[0;34m]\u001b[0m\u001b[0;34m)\u001b[0m\u001b[0;34m\u001b[0m\u001b[0m\n\u001b[1;32m     24\u001b[0m \u001b[0;34m\u001b[0m\u001b[0m\n",
      "\u001b[0;31mValueError\u001b[0m: invalid literal for float(): 1,25"
     ]
    }
   ],
   "source": [
    "'''\n",
    "array 将输入数据转换为ndarray。要么推断出dtype，要么显式制定dtype。\n",
    "asarray 将输入转换为ndarray，如果输入本身就是一个ndarray就不进入。\n",
    "arange 类似于内置的range，但反悔的是一个ndarray而不是列表。\n",
    "ones，ones_like 类似于内置的range，但是反悔的是一个ndarray而不是列表。\n",
    "zeros，zeros_like 类似于ones和ones_like，只不过产生的全0数组而已。\n",
    "empty，empty_like 创建新数组，只分配内存空间但不填充任何值。\n",
    "eye，identity 创建一个正方形NxN单位矩阵\n",
    "'''\n",
    "\n",
    "# ndarray的数据类型\n",
    "arr = np.array([1, 2, 3, 4, 5])\n",
    "arr.dtype\n",
    "\n",
    "float_arr = arr.astype(np.float64)\n",
    "float_arr.dtype\n",
    "\n",
    "arr = np.array([3.7, -1.2, -2.6, 0.5, 12.9, 10.1])\n",
    "arr.astype(np.int32)\n",
    "\n",
    "numeric_strings = np.array(['1,25', '-9.6', '42'], dtype=np.string_)\n",
    "numeric_strings.astype(float)\n",
    "array([1.25, -9.6, 42.])\n",
    "\n",
    "int_array = np.arrange(10)\n",
    "calibers = np.array([.22, .270, .357, .380, .44, .50], dtype=np.float64)\n",
    "int_array.astype(calibers.dtype)"
   ]
  },
  {
   "cell_type": "code",
   "execution_count": 27,
   "metadata": {},
   "outputs": [
    {
     "data": {
      "text/plain": [
       "array([[ 1.        ,  1.41421356,  1.73205081],\n",
       "       [ 2.        ,  2.23606798,  2.44948974]])"
      ]
     },
     "execution_count": 27,
     "metadata": {},
     "output_type": "execute_result"
    }
   ],
   "source": [
    "# 数组和标量之间的运算\n",
    "arr = np.array([[1., 2., 3.], [4., 5., 6.]])\n",
    "arr * arr\n",
    "arr - arr\n",
    "1/ arr\n",
    "arr**0.5\n",
    "# 不同大小的数组之间的运算叫做广播"
   ]
  },
  {
   "cell_type": "code",
   "execution_count": 31,
   "metadata": {},
   "outputs": [
    {
     "name": "stdout",
     "output_type": "stream",
     "text": [
      "[0 1 2 3 4 5 6 7 8 9]\n",
      "5\n",
      "[5 6 7]\n"
     ]
    }
   ],
   "source": [
    "# 基本的索引和切片\n",
    "arr = np.arange(10)\n",
    "print(arr)\n",
    "print(arr[5])\n",
    "print(arr[5:8])"
   ]
  },
  {
   "cell_type": "code",
   "execution_count": 37,
   "metadata": {},
   "outputs": [
    {
     "data": {
      "text/plain": [
       "array([[1, 2, 3],\n",
       "       [4, 5, 6]])"
      ]
     },
     "execution_count": 37,
     "metadata": {},
     "output_type": "execute_result"
    }
   ],
   "source": [
    "arr2d = np.array([[1, 2, 3], [4, 5, 6], [7, 8, 9]])\n",
    "arr2d[2]\n",
    "arr2d[0, 2]\n",
    "arr3d = np.array([[[1, 2, 3], [4, 5, 6]], [[7, 8, 9], [10, 11, 12]]])\n",
    "arr3d[0]"
   ]
  },
  {
   "cell_type": "code",
   "execution_count": 41,
   "metadata": {},
   "outputs": [
    {
     "data": {
      "text/plain": [
       "array([7, 8, 9])"
      ]
     },
     "execution_count": 41,
     "metadata": {},
     "output_type": "execute_result"
    }
   ],
   "source": [
    "old_values = arr3d[0].copy()\n",
    "arr3d[0] = 42\n",
    "arr3d\n",
    "arr3d[0] = old_values\n",
    "arr3d[1, 0]"
   ]
  },
  {
   "cell_type": "code",
   "execution_count": 43,
   "metadata": {},
   "outputs": [
    {
     "data": {
      "text/plain": [
       "array([[2, 3],\n",
       "       [5, 6]])"
      ]
     },
     "execution_count": 43,
     "metadata": {},
     "output_type": "execute_result"
    }
   ],
   "source": [
    "# 切片索引\n",
    "arr[1:6]\n",
    "arr2d[:2, 1:]"
   ]
  },
  {
   "cell_type": "code",
   "execution_count": 61,
   "metadata": {},
   "outputs": [
    {
     "data": {
      "text/plain": [
       "False"
      ]
     },
     "execution_count": 61,
     "metadata": {},
     "output_type": "execute_result"
    }
   ],
   "source": [
    "# 布尔型索引\n",
    "names = np.array(['Bob', 'Joe', 'Will', 'Joe', 'Joe'])\n",
    "data = np.random.rand(7, 4)\n",
    "arrA = np.array([[1, 2, 3], [4, 5, 6], [7, 8, 9]])\n",
    "\n",
    "# 基本上[a：b]=[a=< x <b]\n",
    "arrA[1:, :2]\n",
    "names = 'Bob'\n",
    "data[names == 'Bob']\n",
    "data[names == 'Bob', 2:]\n",
    "names != 'Bob'"
   ]
  },
  {
   "cell_type": "code",
   "execution_count": 70,
   "metadata": {},
   "outputs": [
    {
     "name": "stdout",
     "output_type": "stream",
     "text": [
      "[[ 0  1  2  3]\n",
      " [ 4  5  6  7]\n",
      " [ 8  9 10 11]\n",
      " [12 13 14 15]\n",
      " [16 17 18 19]\n",
      " [20 21 22 23]\n",
      " [24 25 26 27]\n",
      " [28 29 30 31]]\n"
     ]
    },
    {
     "data": {
      "text/plain": [
       "array([[ 4,  7,  5,  6],\n",
       "       [20, 23, 21, 22],\n",
       "       [28, 31, 29, 30],\n",
       "       [ 8, 11,  9, 10]])"
      ]
     },
     "execution_count": 70,
     "metadata": {},
     "output_type": "execute_result"
    }
   ],
   "source": [
    "# 花式索引\n",
    "'''\n",
    "它指的是利用整数数组进行索引。\n",
    "'''\n",
    "arr = np.empty((8, 4))\n",
    "for i in range(8):\n",
    "    arr[i] = i\n",
    "arr\n",
    "\n",
    "# 用数组表达数组\n",
    "arr[[4, 3, 0, 6]]\n",
    "arr[[-3, -5, -7]]\n",
    "\n",
    "arr = np.arange(32).reshape((8, 4))\n",
    "print(arr)\n",
    "arr[[1, 5, 7, 2], [0, 3, 1, 2]]\n",
    "arr[np.ix_([1, 5, 7, 2], [0, 3, 1, 2])]"
   ]
  },
  {
   "cell_type": "code",
   "execution_count": 78,
   "metadata": {},
   "outputs": [
    {
     "data": {
      "text/plain": [
       "array([[[ 0,  4],\n",
       "        [ 1,  5],\n",
       "        [ 2,  6],\n",
       "        [ 3,  7]],\n",
       "\n",
       "       [[ 8, 12],\n",
       "        [ 9, 13],\n",
       "        [10, 14],\n",
       "        [11, 15]]])"
      ]
     },
     "execution_count": 78,
     "metadata": {},
     "output_type": "execute_result"
    }
   ],
   "source": [
    "# 数组转置和轴对换\n",
    "arr = np.arange(15).reshape((3, 5))\n",
    "arr.T\n",
    "\n",
    "arr = np.random.randn(6, 3)\n",
    "np.dot(arr.T, arr)\n",
    "arr = np.arange(16).reshape((2, 2, 4))\n",
    "arr\n",
    "\n",
    "arr.swapaxes(1, 2)"
   ]
  },
  {
   "cell_type": "code",
   "execution_count": 86,
   "metadata": {},
   "outputs": [
    {
     "name": "stdout",
     "output_type": "stream",
     "text": [
      "(array([ 0.35231323,  0.9240285 ,  0.32051798,  0.24584005,  0.81629641,\n",
      "        0.6676673 ,  0.43166652,  0.32353961]), array([ 0.30337562,  0.29916355,  0.17564647,  0.08336489,  0.01878235,\n",
      "        0.14304169,  0.17942178,  0.14894067]))\n"
     ]
    }
   ],
   "source": [
    "# 通用函数：快速的元素级数组函数\n",
    "'''\n",
    "通用函数是一种对ndarray中的数据执行元素级别运算的函数。你可以将其看作简单函数的矢量化包装器。\n",
    "'''\n",
    "\n",
    "# 一元func sqrt exp等\n",
    "arr = np.arange(10)\n",
    "np.sqrt(arr)\n",
    "\n",
    "# 二元func返回的是一个结果数组\n",
    "x = np.random.rand(8)\n",
    "y = np.random.rand(8)\n",
    "maxi = np.maximum(x, y)\n",
    "mini = np.minimum(x, y)\n",
    "print(maxi, mini)\n",
    "\n",
    "# 一元func\n",
    "''' \n",
    "abs，fabs 计算整数，浮点数或复数的绝对值，对于非复数值，可以使用更快的fabs\n",
    "sqrt 计算各个元素的平方根。相当于arr**0.5\n",
    "square 计算各个元素的平方。相当于arr**2\n",
    "exp 计算各个元素的指数e^x\n",
    "log,log10,1og2,log1P 分别为自然对数，底为10，2，的log和log（1+x）\n",
    "sign 计算各个元素的正负号：1-正数，0-零，-1-负数\n",
    "ceil 计算各个元素的ceiling值，即大雨等于该值的最小整数\n",
    "floor 计算各个元素的floor值，即小于等于该值的最大整数\n",
    "rint 将各个元素值四舍五入到最接近的整数，保留dtype\n",
    "modf 将数组的小数和整数部分以两个独立数组的形式返回\n",
    "isnan 返回一个表示“哪些是NaN”的布尔型数组\n",
    "isfinite，isinf 分别返回一个表示“哪些元素是由穷或无穷”的布尔型数组\n",
    "cos，cosh，sin，sinh 普通型和双曲型三角函数\n",
    "logical_not 计算各个元素not x的真值。相当于-arr\n",
    "'''\n",
    "\n",
    "# 二元func\n",
    "'''\n",
    "add 将数组中对应的元素相加\n",
    "subtract 从第一个数组中减去第二个数组中减去第二个数组中的元素\n",
    "multiply 数组元素相乘\n",
    "divide，floor_divide 除法或向下圆整出发（丢弃余数）\n",
    "power 对第一个数组中的元素A，根据第二个数组中的响应元素B，计算A^B\n",
    "maximum,fmax 元素级的最大值计算。fmax将忽略NaN\n",
    "minimum,fmin 元素级的最小值计算。fmin将忽略NaN\n",
    "mod 元素级的求模（除法的余数）\n",
    "copysign 将第二个数组中的值的符号复制给给第一个数组中的值\n",
    "greater，greater_equal,less,less_equel,equal,not_qual >,>=,<,<=,==,!=\n",
    "logical_and,logical_or，logical_xor &,|,^,\n",
    "'''"
   ]
  },
  {
   "cell_type": "code",
   "execution_count": 96,
   "metadata": {},
   "outputs": [
    {
     "data": {
      "text/plain": [
       "Text(0.5,1,u'Image plot of $\\\\sqrt{x^2 + y^2}$ for agrid of values')"
      ]
     },
     "execution_count": 96,
     "metadata": {},
     "output_type": "execute_result"
    }
   ],
   "source": [
    "# 利用数组进行数据处理\n",
    "'''\n",
    "用数组表达式代替循环的做法，通常称为矢量化。\n",
    "sqrt(x^2 + y^2)\n",
    "'''\n",
    "points = np.arange(-5, 5, 0.01)\n",
    "xs, ys = np.meshgrid(points, points)\n",
    "\n",
    "import matplotlib.pyplot as plt\n",
    "z = np.sqrt(xs**2 + ys**2)\n",
    "plt.imshow(z, cmap=plt.cm.gray)\n",
    "plt.colorbar()\n",
    "plt.title(\"Image plot of $\\sqrt{x^2 + y^2}$ for agrid of values\")"
   ]
  },
  {
   "cell_type": "code",
   "execution_count": 103,
   "metadata": {},
   "outputs": [
    {
     "data": {
      "text/plain": [
       "array([[ 2.,  2.,  2.,  2.],\n",
       "       [ 2.,  2.,  2.,  2.],\n",
       "       [ 2.,  2.,  2.,  2.],\n",
       "       [ 2.,  2.,  2.,  2.]])"
      ]
     },
     "execution_count": 103,
     "metadata": {},
     "output_type": "execute_result"
    }
   ],
   "source": [
    "# 将条件逻辑表述为数组运算\n",
    "xarr = np.array([1.1, 1.2, 1.3, 1.4, 1.5])\n",
    "yarr = np.array([2.1, 2.2, 2.3, 2.4, 2.5])\n",
    "cond = np.array([True, False, True, True, False])\n",
    "result = [(x if c else y) for x, y, c in zip(xarr, yarr, cond)]\n",
    "\n",
    "result = np.where(cond, xarr, yarr)\n",
    "result\n",
    "\n",
    "arr = np.random.rand(4, 4)\n",
    "arr\n",
    "\n",
    "np.where(arr > 0, 2, -2)\n",
    "np.where(arr > 0, 2, arr)"
   ]
  },
  {
   "cell_type": "code",
   "execution_count": 105,
   "metadata": {},
   "outputs": [
    {
     "ename": "NameError",
     "evalue": "name 'cond1' is not defined",
     "output_type": "error",
     "traceback": [
      "\u001b[0;31m---------------------------------------------------------------------------\u001b[0m",
      "\u001b[0;31mNameError\u001b[0m                                 Traceback (most recent call last)",
      "\u001b[0;32m<ipython-input-105-97e0f498770a>\u001b[0m in \u001b[0;36m<module>\u001b[0;34m()\u001b[0m\n\u001b[1;32m      2\u001b[0m \u001b[0mn\u001b[0m \u001b[0;34m=\u001b[0m \u001b[0;36m10\u001b[0m\u001b[0;34m\u001b[0m\u001b[0m\n\u001b[1;32m      3\u001b[0m \u001b[0;32mfor\u001b[0m \u001b[0mi\u001b[0m \u001b[0;32min\u001b[0m \u001b[0mrange\u001b[0m\u001b[0;34m(\u001b[0m\u001b[0mn\u001b[0m\u001b[0;34m)\u001b[0m\u001b[0;34m:\u001b[0m\u001b[0;34m\u001b[0m\u001b[0m\n\u001b[0;32m----> 4\u001b[0;31m     \u001b[0;32mif\u001b[0m \u001b[0mcond1\u001b[0m\u001b[0;34m[\u001b[0m\u001b[0mi\u001b[0m\u001b[0;34m]\u001b[0m \u001b[0;32mand\u001b[0m \u001b[0mcond2\u001b[0m\u001b[0;34m[\u001b[0m\u001b[0mi\u001b[0m\u001b[0;34m]\u001b[0m\u001b[0;34m:\u001b[0m\u001b[0;34m\u001b[0m\u001b[0m\n\u001b[0m\u001b[1;32m      5\u001b[0m         \u001b[0mresult\u001b[0m\u001b[0;34m.\u001b[0m\u001b[0mappend\u001b[0m\u001b[0;34m(\u001b[0m\u001b[0;36m0\u001b[0m\u001b[0;34m)\u001b[0m\u001b[0;34m\u001b[0m\u001b[0m\n\u001b[1;32m      6\u001b[0m     \u001b[0;32melif\u001b[0m \u001b[0mcond1\u001b[0m\u001b[0;34m[\u001b[0m\u001b[0mi\u001b[0m\u001b[0;34m]\u001b[0m\u001b[0;34m:\u001b[0m\u001b[0;34m\u001b[0m\u001b[0m\n",
      "\u001b[0;31mNameError\u001b[0m: name 'cond1' is not defined"
     ]
    }
   ],
   "source": [
    "result = []\n",
    "n = 10\n",
    "for i in range(n):\n",
    "    if cond1[i] and cond2[i]:\n",
    "        result.append(0)\n",
    "    elif cond1[i]:\n",
    "        result.append(1)\n",
    "    elif cond2[i]:\n",
    "        result.append(2)\n",
    "    else:\n",
    "        result.append(3)\n",
    "        \n",
    "np.where(cond1 & cond2, 0, np.where(cond1, 1, np.where(cond2, 2, 3)))\n",
    "result = 1*(cond1 - cond2) + 2*(cond2 & -cond1) + 3*-(cond1|cond2)"
   ]
  },
  {
   "cell_type": "code",
   "execution_count": 112,
   "metadata": {},
   "outputs": [
    {
     "name": "stdout",
     "output_type": "stream",
     "text": [
      "[[ 0  1  4]\n",
      " [ 3  7 12]\n",
      " [ 6 13 21]]\n"
     ]
    }
   ],
   "source": [
    "# 数学和统计方法\n",
    "arr = np.random.randn(5, 4)\n",
    "arr.mean()\n",
    "np.mean(arr)\n",
    "arr.sum()\n",
    "\n",
    "# cumsum: /cumprod:\n",
    "arr = np.array([[0, 1, 3], [3, 4, 5], [6, 7, 8]])\n",
    "print(arr.cumsum(0))\n",
    "print(arr.cumsum(1))"
   ]
  },
  {
   "cell_type": "code",
   "execution_count": null,
   "metadata": {
    "collapsed": true
   },
   "outputs": [],
   "source": [
    "'''\n",
    "sum 对数组中全部或某轴向的元素求和。零长度的数组的sum为0。\n",
    "mean 算数平均数。零长度的数组的mean为NaN。\n",
    "std，var 分别标准差和方差，自由度可调（默认为n）\n",
    "min，max 最大值和最小值\n",
    "argmin，argmax 分别为最大和最小元素的索引。\n",
    "cumsum 所有元素的累积和。\n",
    "sumprod 所有元素累积积。\n",
    "'''"
   ]
  },
  {
   "cell_type": "code",
   "execution_count": 118,
   "metadata": {},
   "outputs": [
    {
     "data": {
      "text/plain": [
       "False"
      ]
     },
     "execution_count": 118,
     "metadata": {},
     "output_type": "execute_result"
    }
   ],
   "source": [
    "# 用于布尔型数组的方法\n",
    "arr = np.random.randn(100)\n",
    "(arr > 0).sum() #正值的数量\n",
    "bools = np.array([False, False, True, False])\n",
    "bools.any()\n",
    "bools.all()"
   ]
  },
  {
   "cell_type": "code",
   "execution_count": 123,
   "metadata": {},
   "outputs": [
    {
     "data": {
      "text/plain": [
       "array([[-2.04861719, -0.91010738, -0.29148296],\n",
       "       [-0.66800231,  0.26701088,  0.80945552],\n",
       "       [-1.01808638,  0.23910676,  0.44404523],\n",
       "       [-0.31937297,  0.03502416,  0.71067815],\n",
       "       [-2.22459838, -0.83593197,  0.35147983]])"
      ]
     },
     "execution_count": 123,
     "metadata": {},
     "output_type": "execute_result"
    }
   ],
   "source": [
    "# 排序\n",
    "arr = np.random.randn(8)\n",
    "arr.sort()\n",
    "arr\n",
    "\n",
    "arr = np.random.randn(5, 3)\n",
    "arr.sort(1)\n",
    "arr\n",
    "\n",
    "large_arr = np.random.randn(1000)\n",
    "large_arr.sort()\n",
    "large_arr[int(0.05*len(large_arr))] # 5%分位数"
   ]
  },
  {
   "cell_type": "code",
   "execution_count": 128,
   "metadata": {},
   "outputs": [
    {
     "data": {
      "text/plain": [
       "array([ True, False, False,  True,  True, False,  True], dtype=bool)"
      ]
     },
     "execution_count": 128,
     "metadata": {},
     "output_type": "execute_result"
    }
   ],
   "source": [
    "# 唯一化以及其他的集合逻辑\n",
    "names = np.array(['Bob', 'Joe', 'Will', 'Bob', 'Will', 'Joe', 'Joe'])\n",
    "np.unique(names)\n",
    "ints = np.array([3, 3, 3, 2, 2, 1, 1, 4, 4])\n",
    "np.unique(ints)\n",
    "\n",
    "sorted(set(names))\n",
    "values = np.array([6, 0, 0, 3, 2, 5, 6])\n",
    "np.in1d(values, [2, 3, 6])\n",
    "\n",
    "'''\n",
    "unique(x) 计算x中的唯一元素，并返回有序结果\n",
    "intersect1d(x, y) 计算x和y中的公共元素，并返回有序结果\n",
    "union1d(x, y) 计算x和y的并集，并返回有序结果\n",
    "in1d(x, y) 得到一个表示“x的元素是否包含于y”的布尔值型数组\n",
    "setdiff1d(x, y) 集合的差，即元素在x中且不在y中\n",
    "setxor1d(x, y) 集合的对称差，即存在一个数组中但不同是存在于两个数组中的元素\n",
    "'''"
   ]
  },
  {
   "cell_type": "code",
   "execution_count": 132,
   "metadata": {},
   "outputs": [
    {
     "data": {
      "text/plain": [
       "array([0, 1, 2, 3, 4, 5, 6, 7, 8, 9])"
      ]
     },
     "execution_count": 132,
     "metadata": {},
     "output_type": "execute_result"
    }
   ],
   "source": [
    "# 用于数组的文件输入输出\n",
    "# 将数组以二进制格式保存到磁盘\n",
    "arr = np.arange(10)\n",
    "np.save('some_array', arr)\n",
    "\n",
    "np.load('some_array.npy')\n",
    "np.savez('array_archive.npz', a=arr, b=arr)\n",
    "arch = np.load('array_archive.npz')\n",
    "arch['b']"
   ]
  },
  {
   "cell_type": "code",
   "execution_count": 134,
   "metadata": {},
   "outputs": [
    {
     "name": "stdout",
     "output_type": "stream",
     "text": [
      "cat: array_ex.txt: No such file or directory\r\n"
     ]
    },
    {
     "ename": "IOError",
     "evalue": "[Errno 2] No such file or directory: 'array_ex.txt'",
     "output_type": "error",
     "traceback": [
      "\u001b[0;31m---------------------------------------------------------------------------\u001b[0m",
      "\u001b[0;31mIOError\u001b[0m                                   Traceback (most recent call last)",
      "\u001b[0;32m<ipython-input-134-82b1663d1553>\u001b[0m in \u001b[0;36m<module>\u001b[0;34m()\u001b[0m\n\u001b[1;32m      1\u001b[0m \u001b[0;31m# 存取文本文件\u001b[0m\u001b[0;34m\u001b[0m\u001b[0;34m\u001b[0m\u001b[0m\n\u001b[1;32m      2\u001b[0m \u001b[0mget_ipython\u001b[0m\u001b[0;34m(\u001b[0m\u001b[0;34m)\u001b[0m\u001b[0;34m.\u001b[0m\u001b[0msystem\u001b[0m\u001b[0;34m(\u001b[0m\u001b[0;34mu'cat array_ex.txt'\u001b[0m\u001b[0;34m)\u001b[0m\u001b[0;34m\u001b[0m\u001b[0m\n\u001b[0;32m----> 3\u001b[0;31m \u001b[0marr\u001b[0m \u001b[0;34m=\u001b[0m \u001b[0mnp\u001b[0m\u001b[0;34m.\u001b[0m\u001b[0mloadtxt\u001b[0m\u001b[0;34m(\u001b[0m\u001b[0;34m'array_ex.txt'\u001b[0m\u001b[0;34m,\u001b[0m \u001b[0mdelimiter\u001b[0m\u001b[0;34m=\u001b[0m\u001b[0;34m','\u001b[0m\u001b[0;34m)\u001b[0m\u001b[0;34m\u001b[0m\u001b[0m\n\u001b[0m\u001b[1;32m      4\u001b[0m \u001b[0marr\u001b[0m\u001b[0;34m\u001b[0m\u001b[0m\n",
      "\u001b[0;32m/usr/local/lib/python2.7/site-packages/numpy/lib/npyio.pyc\u001b[0m in \u001b[0;36mloadtxt\u001b[0;34m(fname, dtype, comments, delimiter, converters, skiprows, usecols, unpack, ndmin)\u001b[0m\n\u001b[1;32m    894\u001b[0m                 \u001b[0mfh\u001b[0m \u001b[0;34m=\u001b[0m \u001b[0miter\u001b[0m\u001b[0;34m(\u001b[0m\u001b[0mbz2\u001b[0m\u001b[0;34m.\u001b[0m\u001b[0mBZ2File\u001b[0m\u001b[0;34m(\u001b[0m\u001b[0mfname\u001b[0m\u001b[0;34m)\u001b[0m\u001b[0;34m)\u001b[0m\u001b[0;34m\u001b[0m\u001b[0m\n\u001b[1;32m    895\u001b[0m             \u001b[0;32melif\u001b[0m \u001b[0msys\u001b[0m\u001b[0;34m.\u001b[0m\u001b[0mversion_info\u001b[0m\u001b[0;34m[\u001b[0m\u001b[0;36m0\u001b[0m\u001b[0;34m]\u001b[0m \u001b[0;34m==\u001b[0m \u001b[0;36m2\u001b[0m\u001b[0;34m:\u001b[0m\u001b[0;34m\u001b[0m\u001b[0m\n\u001b[0;32m--> 896\u001b[0;31m                 \u001b[0mfh\u001b[0m \u001b[0;34m=\u001b[0m \u001b[0miter\u001b[0m\u001b[0;34m(\u001b[0m\u001b[0mopen\u001b[0m\u001b[0;34m(\u001b[0m\u001b[0mfname\u001b[0m\u001b[0;34m,\u001b[0m \u001b[0;34m'U'\u001b[0m\u001b[0;34m)\u001b[0m\u001b[0;34m)\u001b[0m\u001b[0;34m\u001b[0m\u001b[0m\n\u001b[0m\u001b[1;32m    897\u001b[0m             \u001b[0;32melse\u001b[0m\u001b[0;34m:\u001b[0m\u001b[0;34m\u001b[0m\u001b[0m\n\u001b[1;32m    898\u001b[0m                 \u001b[0mfh\u001b[0m \u001b[0;34m=\u001b[0m \u001b[0miter\u001b[0m\u001b[0;34m(\u001b[0m\u001b[0mopen\u001b[0m\u001b[0;34m(\u001b[0m\u001b[0mfname\u001b[0m\u001b[0;34m)\u001b[0m\u001b[0;34m)\u001b[0m\u001b[0;34m\u001b[0m\u001b[0m\n",
      "\u001b[0;31mIOError\u001b[0m: [Errno 2] No such file or directory: 'array_ex.txt'"
     ]
    }
   ],
   "source": [
    "# 存取文本文件\n",
    "!cat array_ex.txt\n",
    "arr = np.loadtxt('array_ex.txt', delimiter=',')\n",
    "arr"
   ]
  },
  {
   "cell_type": "code",
   "execution_count": 139,
   "metadata": {},
   "outputs": [
    {
     "data": {
      "text/plain": [
       "array([  6.,  15.])"
      ]
     },
     "execution_count": 139,
     "metadata": {},
     "output_type": "execute_result"
    }
   ],
   "source": [
    "# 线性代数\n",
    "x = np.array([[1., 2., 3.], [4., 5., 6.]])\n",
    "y = np.array([[6., 23.], [-1, 7], [8, 9]])\n",
    "x.dot(y)\n",
    "np.dot(x, y)\n",
    "\n",
    "np.dot(x, np.ones(3))"
   ]
  },
  {
   "cell_type": "code",
   "execution_count": 145,
   "metadata": {},
   "outputs": [
    {
     "name": "stdout",
     "output_type": "stream",
     "text": [
      "[[-3.1912259  -3.83886969 -3.37513165  0.45799669 -1.05750658]\n",
      " [ 0.         -6.55437202 -1.529754    1.946616   -1.78844487]\n",
      " [ 0.          0.         -6.00710265  2.31126714 -4.51936351]\n",
      " [ 0.          0.          0.         -0.16567565 -0.16811085]\n",
      " [ 0.          0.          0.          0.          0.91155535]]\n",
      "[[-0.81598494  0.29886309  0.16495211  0.34997454  0.30847697]\n",
      " [-0.36775835 -0.88594518  0.22592985 -0.16159445 -0.05194107]\n",
      " [-0.40924253  0.05060768 -0.73690901 -0.219311   -0.48869951]\n",
      " [-0.16649382  0.30257952  0.30877505 -0.88052396  0.10030431]\n",
      " [ 0.06101415 -0.17795081 -0.53232469 -0.16728805  0.80824249]]\n"
     ]
    }
   ],
   "source": [
    "from numpy.linalg import inv, qr\n",
    "\n",
    "X = np.random.randn(5, 5)\n",
    "mat = X.T.dot(X)\n",
    "inv(mat)\n",
    "mat.dot(inv(mat))\n",
    "q, r = qr(mat)\n",
    "print(r)\n",
    "print(q)\n",
    "\n",
    "'''\n",
    "diag 以一位数组的形式返回方阵的对角线（或非对角线）元素，或将一位数组转换为方阵（非对角线元素位0）\n",
    "dot 矩阵乘法\n",
    "trace 计算对角线元素的和\n",
    "det 计算矩阵行列式\n",
    "eig 计算方阵的本征值和本征向量\n",
    "inv 计算方阵的逆\n",
    "pinv 计算矩阵的Moore-Penrose伪逆\n",
    "qr 计算RQ分解\n",
    "svd 计算奇艺值分解（SVD）\n",
    "solve 解线性方程组Ax=b，其中A为一个方阵\n",
    "Istsq 计算Ax=b的最小二乘解\n",
    "'''"
   ]
  },
  {
   "cell_type": "code",
   "execution_count": 148,
   "metadata": {},
   "outputs": [
    {
     "name": "stdout",
     "output_type": "stream",
     "text": [
      "1 loop, best of 3: 10.4 s per loop\n"
     ]
    }
   ],
   "source": [
    "# 随机数生成\n",
    "samples = np.random.normal(size=(4, 4))\n",
    "samples\n",
    "\n",
    "from random import normalvariate\n",
    "N = 10000000\n",
    "%timeit samples = [normalvariate(0, 1) for _ in xrange(N)]\n",
    "\n",
    "# 部分numpy.random函数\n",
    "'''\n",
    "seed 确定随机数生成器的种子\n",
    "permutation 返回一个序列的随机排列或返回一个随机排列的范围\n",
    "shuffle 对一个序列就地随机排列\n",
    "rand 产生均匀分布的样本值\n",
    "randint 从给定的上下限范围内随机选取整数\n",
    "randn 产生正态分布（平均值为0，标准差为1）的样本值，类似于MATLAB接口\n",
    "binnomial 产生二项分布的样本值\n",
    "normal 产生正态（搞死）分布的样本值\n",
    "beta 产生Beta分布的样本值\n",
    "chisquare 产生卡方分布的样本值\n",
    "gamma 产生Gamma分布的样本值\n",
    "uniform 产生在[0, 1)中均匀分布的样本值\n",
    "'''"
   ]
  },
  {
   "cell_type": "code",
   "execution_count": 149,
   "metadata": {},
   "outputs": [
    {
     "name": "stdout",
     "output_type": "stream",
     "text": [
      "[0, -1, 0, -1, 0, 1, 0, 1, 0, 1, 0, 1, 0, 1, 0, -1, 0, 1, 0, 1, 0, 1, 0, -1, 0, -1, -2, -3, -4, -5, -4, -3, -2, -1, 0, 1, 2, 3, 4, 5, 4, 5, 6, 7, 6, 7, 6, 7, 6, 7, 8, 9, 8, 9, 8, 7, 6, 7, 6, 5, 4, 3, 2, 1, 2, 3, 2, 3, 2, 3, 4, 5, 4, 5, 6, 7, 6, 7, 8, 9, 8, 7, 8, 7, 6, 7, 6, 7, 8, 9, 8, 9, 8, 9, 8, 7, 8, 7, 6, 7, 8, 7, 8, 9, 8, 9, 8, 9, 8, 9, 8, 7, 6, 5, 4, 5, 4, 3, 4, 3, 4, 5, 6, 5, 6, 5, 4, 3, 2, 1, 2, 3, 2, 1, 2, 3, 4, 3, 4, 5, 6, 5, 4, 5, 6, 5, 6, 5, 4, 5, 4, 3, 4, 5, 4, 3, 4, 5, 6, 7, 6, 5, 6, 7, 6, 5, 6, 7, 6, 7, 8, 9, 10, 11, 10, 11, 12, 13, 12, 11, 12, 11, 12, 13, 12, 13, 14, 13, 14, 13, 14, 15, 16, 17, 18, 17, 18, 17, 16, 17, 18, 17, 16, 17, 18, 17, 18, 19, 20, 21, 22, 23, 22, 23, 24, 23, 22, 23, 22, 21, 22, 23, 24, 25, 26, 25, 26, 27, 26, 25, 24, 23, 24, 25, 24, 23, 22, 21, 20, 19, 20, 19, 18, 17, 16, 15, 14, 13, 12, 13, 14, 15, 16, 15, 16, 17, 18, 19, 20, 21, 20, 21, 22, 21, 20, 19, 18, 17, 18, 19, 20, 21, 20, 19, 20, 19, 20, 21, 20, 19, 18, 17, 16, 15, 16, 17, 18, 17, 16, 17, 16, 15, 14, 13, 14, 13, 12, 11, 10, 11, 12, 11, 10, 9, 8, 7, 8, 9, 10, 9, 10, 11, 10, 11, 12, 11, 10, 9, 8, 9, 8, 7, 8, 9, 8, 7, 8, 7, 8, 9, 10, 9, 10, 9, 8, 9, 8, 9, 8, 7, 8, 7, 8, 9, 10, 11, 10, 11, 10, 11, 12, 13, 12, 13, 14, 13, 14, 13, 14, 15, 14, 15, 16, 17, 18, 17, 18, 17, 16, 17, 18, 17, 18, 17, 18, 19, 18, 19, 18, 19, 18, 19, 20, 19, 20, 19, 20, 19, 18, 17, 16, 17, 16, 15, 16, 15, 16, 15, 14, 15, 16, 17, 18, 19, 20, 19, 18, 17, 16, 17, 16, 17, 18, 19, 20, 21, 20, 21, 22, 21, 22, 21, 22, 23, 22, 23, 22, 23, 24, 25, 26, 25, 24, 23, 22, 23, 22, 21, 22, 21, 20, 19, 20, 21, 22, 21, 22, 21, 20, 19, 20, 21, 20, 21, 22, 23, 24, 23, 22, 23, 22, 21, 22, 21, 20, 19, 20, 19, 20, 21, 20, 19, 18, 19, 18, 17, 16, 17, 18, 17, 16, 17, 16, 17, 18, 19, 20, 19, 20, 21, 22, 21, 20, 21, 22, 21, 20, 19, 20, 19, 20, 21, 22, 23, 24, 25, 26, 27, 28, 27, 26, 27, 26, 25, 24, 25, 24, 23, 22, 23, 24, 23, 24, 23, 22, 23, 22, 23, 24, 25, 26, 25, 26, 27, 26, 25, 24, 25, 26, 27, 26, 27, 28, 27, 28, 27, 26, 27, 28, 27, 26, 25, 24, 25, 26, 25, 24, 23, 24, 25, 26, 25, 26, 25, 26, 27, 28, 27, 28, 27, 28, 27, 26, 25, 26, 27, 26, 25, 26, 27, 28, 29, 28, 27, 28, 27, 26, 27, 26, 25, 26, 27, 28, 27, 26, 25, 26, 27, 26, 27, 26, 25, 24, 23, 22, 23, 22, 21, 22, 21, 22, 21, 20, 19, 18, 17, 16, 15, 14, 15, 14, 15, 16, 15, 16, 17, 18, 17, 16, 15, 16, 17, 16, 15, 14, 13, 12, 11, 10, 9, 10, 9, 10, 11, 10, 9, 10, 9, 10, 11, 10, 11, 12, 11, 10, 9, 10, 9, 8, 7, 6, 7, 8, 9, 8, 9, 8, 9, 10, 11, 10, 11, 10, 9, 8, 7, 8, 7, 8, 7, 6, 5, 6, 5, 6, 7, 8, 9, 10, 11, 12, 13, 12, 13, 14, 15, 14, 15, 16, 15, 16, 17, 18, 19, 18, 19, 18, 17, 16, 17, 18, 17, 18, 17, 16, 17, 18, 17, 18, 17, 16, 17, 18, 17, 18, 19, 18, 19, 18, 17, 18, 17, 16, 17, 16, 17, 16, 15, 14, 13, 14, 13, 14, 13, 14, 15, 16, 15, 14, 15, 16, 17, 18, 17, 18, 19, 18, 19, 18, 17, 18, 19, 20, 21, 22, 21, 20, 21, 22, 23, 24, 25, 26, 27, 28, 27, 28, 29, 28, 29, 28, 27, 28, 27, 26, 27, 28, 29, 30, 31, 32, 33, 32, 33, 34, 35, 34, 33, 34, 35, 34, 33, 34, 33, 34, 33, 34, 35, 36, 37, 38, 37, 38, 37, 36, 37, 38, 37, 38, 37, 38, 39, 40, 39, 38, 39, 40, 39, 40, 39, 38, 37, 36, 35, 36, 37, 38, 39, 38, 37, 38, 37, 36, 37, 36, 35, 36, 35, 34, 35, 34, 35, 34, 35, 34, 33, 34, 35, 36, 37, 38, 37, 36, 37, 36, 37, 36, 35, 34, 33, 32, 33, 32, 33, 32, 33, 34, 33, 34, 33, 32, 33, 34, 35, 34, 33, 34, 35, 34, 33, 34, 33, 32, 33, 34, 33, 34, 35, 36, 35, 34, 35, 36, 37, 38, 37, 36, 37, 36, 35, 34, 33, 34, 35, 36, 35, 34, 35, 36, 35, 34, 33, 32, 31, 32, 33, 34, 35, 36, 35, 34, 33, 32, 33, 34, 33, 32, 33, 34, 33, 32, 33, 34, 35, 34, 33, 34, 33, 32, 31, 30, 31, 32, 31, 30, 31, 32, 33, 34, 35, 34, 33, 32, 31, 32, 33, 34, 33, 32, 33, 32, 33, 34, 35, 36, 35, 36, 37, 38, 39, 40, 39, 38, 39, 38, 37, 36, 37, 36, 37, 36, 35, 36, 37, 38, 39, 38, 39, 38, 37, 38]\n"
     ]
    }
   ],
   "source": [
    "# 范例：随机漫步\n",
    "import random\n",
    "position = 0\n",
    "walk = [position]\n",
    "steps = 1000\n",
    "for i in xrange(steps):\n",
    "    step = 1 if random.randint(0, 1) else -1 \n",
    "    position += step\n",
    "    walk.append(position)\n",
    "\n",
    "print(walk)"
   ]
  }
 ],
 "metadata": {
  "kernelspec": {
   "display_name": "Python 2",
   "language": "python",
   "name": "python2"
  },
  "language_info": {
   "codemirror_mode": {
    "name": "ipython",
    "version": 2
   },
   "file_extension": ".py",
   "mimetype": "text/x-python",
   "name": "python",
   "nbconvert_exporter": "python",
   "pygments_lexer": "ipython2",
   "version": "2.7.12"
  }
 },
 "nbformat": 4,
 "nbformat_minor": 2
}
