{
 "cells": [
  {
   "cell_type": "code",
   "execution_count": 1,
   "metadata": {},
   "outputs": [
    {
     "name": "stdout",
     "output_type": "stream",
     "text": [
      "([1, 2, 3], [4, 5, 6])\n"
     ]
    }
   ],
   "source": [
    "# python用的是缩进，不是大括号控制代码块。\n",
    "less = []\n",
    "greater = []\n",
    "\n",
    "for x in [1, 2, 3, 4, 5, 6]:\n",
    "    if x < 4:\n",
    "        less.append(x)\n",
    "    else:\n",
    "        greater.append(x)\n",
    "\n",
    "print(less, greater)"
   ]
  },
  {
   "cell_type": "code",
   "execution_count": 2,
   "metadata": {},
   "outputs": [
    {
     "ename": "NameError",
     "evalue": "name 'f' is not defined",
     "output_type": "error",
     "traceback": [
      "\u001b[0;31m---------------------------------------------------------------------------\u001b[0m",
      "\u001b[0;31mNameError\u001b[0m                                 Traceback (most recent call last)",
      "\u001b[0;32m<ipython-input-2-4fc266782920>\u001b[0m in \u001b[0;36m<module>\u001b[0;34m()\u001b[0m\n\u001b[1;32m      4\u001b[0m \u001b[0;34m\u001b[0m\u001b[0m\n\u001b[1;32m      5\u001b[0m \u001b[0;31m# 函数调用\u001b[0m\u001b[0;34m\u001b[0m\u001b[0;34m\u001b[0m\u001b[0m\n\u001b[0;32m----> 6\u001b[0;31m \u001b[0mresult\u001b[0m \u001b[0;34m=\u001b[0m \u001b[0mf\u001b[0m\u001b[0;34m(\u001b[0m\u001b[0mx\u001b[0m\u001b[0;34m,\u001b[0m \u001b[0my\u001b[0m\u001b[0;34m,\u001b[0m \u001b[0mz\u001b[0m\u001b[0;34m)\u001b[0m\u001b[0;34m\u001b[0m\u001b[0m\n\u001b[0m\u001b[1;32m      7\u001b[0m \u001b[0mg\u001b[0m\u001b[0;34m(\u001b[0m\u001b[0;34m)\u001b[0m\u001b[0;34m\u001b[0m\u001b[0m\n\u001b[1;32m      8\u001b[0m \u001b[0;34m\u001b[0m\u001b[0m\n",
      "\u001b[0;31mNameError\u001b[0m: name 'f' is not defined"
     ]
    }
   ],
   "source": [
    "# python万物皆对象\n",
    "    # 1.python解释器中的任何数值，字符串，数据结构，函数，类，某块等。\n",
    "    # 2.每个对象都有一个相关类型以及内部数据。\n",
    "    \n",
    "# 函数调用。\n",
    "result = f(x, y, z)\n",
    "g()\n",
    "\n",
    "# 几乎所有的python对象都有一些附属属性函数。\n",
    "obj.some_method(x, y, z)\n",
    "\n",
    "# 函数既可以接受位置参数，也可以接受关键字参数。\n",
    "result = f(a, b, c, d=5, e='foo')"
   ]
  },
  {
   "cell_type": "code",
   "execution_count": 3,
   "metadata": {},
   "outputs": [
    {
     "name": "stdout",
     "output_type": "stream",
     "text": [
      "[1, 2, 3, 4]\n",
      "[2, 3, 5]\n"
     ]
    }
   ],
   "source": [
    "# python对变量副值时，其实是对右侧对象的一个引用，就是指针。\n",
    "a = [1, 2, 3]\n",
    "b = a\n",
    "a.append(4)\n",
    "print(b)\n",
    "\n",
    "# 当你将对象以参数的形式传入函数的时候，其实只是传入了一个引用而已。\n",
    "def append_element(alist, element):\n",
    "    alist.append(element)\n",
    "    \n",
    "data = [2, 3]\n",
    "append_element(data, 5)\n",
    "print(data)"
   ]
  },
  {
   "cell_type": "code",
   "execution_count": 8,
   "metadata": {},
   "outputs": [
    {
     "name": "stdout",
     "output_type": "stream",
     "text": [
      "(<type 'int'>, <type 'str'>)\n"
     ]
    }
   ],
   "source": [
    "# 动态引用，强类型。\n",
    "    # 1.python中的对象引用没有与之关联类型的信息。\n",
    "    # 2.变量只是对象在特定命名空间的名称，对象的类型信息是保存在自己内部的。\n",
    "a = 5\n",
    "t1 = type(a)\n",
    "\n",
    "a = 'foo'\n",
    "type(a)\n",
    "t2 = type(a)\n",
    "\n",
    "print(t1, t2)"
   ]
  },
  {
   "cell_type": "code",
   "execution_count": 9,
   "metadata": {},
   "outputs": [
    {
     "ename": "TypeError",
     "evalue": "cannot concatenate 'str' and 'int' objects",
     "output_type": "error",
     "traceback": [
      "\u001b[0;31m---------------------------------------------------------------------------\u001b[0m",
      "\u001b[0;31mTypeError\u001b[0m                                 Traceback (most recent call last)",
      "\u001b[0;32m<ipython-input-9-2d23a12fd6c0>\u001b[0m in \u001b[0;36m<module>\u001b[0;34m()\u001b[0m\n\u001b[1;32m      1\u001b[0m \u001b[0;31m# 然而python是强类型语言，不可以类型间混用，隐式转换只在很明显的情况下才进行\u001b[0m\u001b[0;34m\u001b[0m\u001b[0;34m\u001b[0m\u001b[0m\n\u001b[0;32m----> 2\u001b[0;31m \u001b[0ma\u001b[0m \u001b[0;34m=\u001b[0m \u001b[0;34m'5'\u001b[0m \u001b[0;34m+\u001b[0m \u001b[0;36m5\u001b[0m\u001b[0;34m\u001b[0m\u001b[0m\n\u001b[0m\u001b[1;32m      3\u001b[0m \u001b[0mb\u001b[0m \u001b[0;34m=\u001b[0m \u001b[0;36m5\u001b[0m \u001b[0;34m+\u001b[0m \u001b[0;36m0.5\u001b[0m\u001b[0;34m\u001b[0m\u001b[0m\n",
      "\u001b[0;31mTypeError\u001b[0m: cannot concatenate 'str' and 'int' objects"
     ]
    }
   ],
   "source": [
    "# 然而python是强类型语言，不可以类型间混用，隐式转换只在很明显的情况下才进行。\n",
    "a = '5' + 5\n",
    "b = 5 + 0.5\n",
    "\n",
    "# isinstance可以接受由类型组成的元组，来判断对象是否是某一类。\n",
    "isinstance(a, (int, float))\n",
    "isinstance(b, float)"
   ]
  },
  {
   "cell_type": "code",
   "execution_count": 15,
   "metadata": {},
   "outputs": [
    {
     "ename": "SyntaxError",
     "evalue": "invalid syntax (<ipython-input-15-e8de417dfe0a>, line 3)",
     "output_type": "error",
     "traceback": [
      "\u001b[0;36m  File \u001b[0;32m\"<ipython-input-15-e8de417dfe0a>\"\u001b[0;36m, line \u001b[0;32m3\u001b[0m\n\u001b[0;31m    a.<Tab>\u001b[0m\n\u001b[0m      ^\u001b[0m\n\u001b[0;31mSyntaxError\u001b[0m\u001b[0;31m:\u001b[0m invalid syntax\n"
     ]
    }
   ],
   "source": [
    "# python对象通常既有属性，又有方法，可以类似于obj.attribute_name这样的语法访问。\n",
    "a = 'foo'\n",
    "a.<Tab>"
   ]
  },
  {
   "cell_type": "code",
   "execution_count": 16,
   "metadata": {},
   "outputs": [
    {
     "data": {
      "text/plain": [
       "<function split>"
      ]
     },
     "execution_count": 16,
     "metadata": {},
     "output_type": "execute_result"
    }
   ],
   "source": [
    "# 属性和方法还可以利用getattr函数通过名称进行访问。\n",
    "getattr(a, 'split')"
   ]
  },
  {
   "cell_type": "code",
   "execution_count": 18,
   "metadata": {},
   "outputs": [
    {
     "data": {
      "text/plain": [
       "True"
      ]
     },
     "execution_count": 18,
     "metadata": {},
     "output_type": "execute_result"
    }
   ],
   "source": [
    "# 如果你不关心对象的类型，而只想确认它到底有没有某些方法或行为。\n",
    "    # 比如确认是否可以迭代，可以尝试使用iter函数。\n",
    "def isiterable(obj):\n",
    "    try:\n",
    "        iter(obj)\n",
    "        return True\n",
    "    except TypeError: # 不可迭代\n",
    "        return False\n",
    "\n",
    "# 判断对象是不是列表，如不是则转换成列表。\n",
    "if not isinstance(x, list) and isiterable(x):\n",
    "    x = list(x)\n",
    "    \n",
    "isiterable('a string') "
   ]
  },
  {
   "cell_type": "code",
   "execution_count": 20,
   "metadata": {
    "collapsed": true
   },
   "outputs": [],
   "source": [
    "# 可以用import来引用其他文件中的元素，或者API。\n",
    "import numpy as np\n",
    "import tensorflow as tf"
   ]
  },
  {
   "cell_type": "code",
   "execution_count": 4,
   "metadata": {},
   "outputs": [
    {
     "name": "stdout",
     "output_type": "stream",
     "text": [
      "True\n",
      "True\n",
      "False\n"
     ]
    }
   ],
   "source": [
    "# 要判断两个引用是否是指向同一个对象，可以用is关键字，反之用is not。\n",
    "a = [1, 2, 3]\n",
    "b = a\n",
    "c = list(a)\n",
    "\n",
    "print(a is b)\n",
    "print(a is not c)\n",
    "\n",
    "# is和is not常常用于判断是否为None，因为None实例只有一个。\n",
    "a = None\n",
    "print(a is True)"
   ]
  },
  {
   "cell_type": "code",
   "execution_count": null,
   "metadata": {
    "collapsed": true
   },
   "outputs": [],
   "source": [
    "# python是一种非延迟（非懒惰）的，严格语言。\n",
    "    # 1.严格意思是：python的相关计算是在被赋值的时候，就被执行的（急性子）。\n",
    "    # 2.相应的，有的语言是在被使用之前，不会被计算的懒惰。\n",
    "    # 3.但是python仍然是支持函数式编程的，比如迭代器和生成器也是延迟计算的。"
   ]
  },
  {
   "cell_type": "code",
   "execution_count": 6,
   "metadata": {},
   "outputs": [
    {
     "name": "stdout",
     "output_type": "stream",
     "text": [
      "['foo', 2, (3, 4)]\n"
     ]
    },
    {
     "ename": "TypeError",
     "evalue": "'tuple' object does not support item assignment",
     "output_type": "error",
     "traceback": [
      "\u001b[0;31m---------------------------------------------------------------------------\u001b[0m",
      "\u001b[0;31mTypeError\u001b[0m                                 Traceback (most recent call last)",
      "\u001b[0;32m<ipython-input-6-bf5e6198e8cb>\u001b[0m in \u001b[0;36m<module>\u001b[0;34m()\u001b[0m\n\u001b[1;32m      6\u001b[0m \u001b[0;31m# 字符串和元组等是不可变对象\u001b[0m\u001b[0;34m\u001b[0m\u001b[0;34m\u001b[0m\u001b[0m\n\u001b[1;32m      7\u001b[0m \u001b[0mtuple\u001b[0m \u001b[0;34m=\u001b[0m \u001b[0;34m(\u001b[0m\u001b[0;36m3\u001b[0m\u001b[0;34m,\u001b[0m \u001b[0;36m5\u001b[0m\u001b[0;34m,\u001b[0m \u001b[0;34m(\u001b[0m\u001b[0;36m4\u001b[0m\u001b[0;34m,\u001b[0m \u001b[0;36m5\u001b[0m\u001b[0;34m)\u001b[0m\u001b[0;34m)\u001b[0m\u001b[0;34m\u001b[0m\u001b[0m\n\u001b[0;32m----> 8\u001b[0;31m \u001b[0mtuple\u001b[0m\u001b[0;34m[\u001b[0m\u001b[0;36m1\u001b[0m\u001b[0;34m]\u001b[0m \u001b[0;34m=\u001b[0m \u001b[0;34m'four'\u001b[0m\u001b[0;34m\u001b[0m\u001b[0m\n\u001b[0m",
      "\u001b[0;31mTypeError\u001b[0m: 'tuple' object does not support item assignment"
     ]
    }
   ],
   "source": [
    "# 大部分的python对象是可变的，如列表，字典，NumPy数组和大部分自定义类。所包含的对象或值是可以被修改的。\n",
    "list = ['foo', 2, [2, 4]]\n",
    "list[2] = (3, 4)\n",
    "print(list)\n",
    "\n",
    "# 字符串和元组等是不可变对象。\n",
    "tuple = (3, 5, (4, 5))\n",
    "tuple[1] = 'four'\n",
    "\n",
    "# 即使大部分对象可变，也不推荐这么做。"
   ]
  },
  {
   "cell_type": "code",
   "execution_count": 10,
   "metadata": {},
   "outputs": [
    {
     "name": "stdout",
     "output_type": "stream",
     "text": [
      "<type 'int'>\n",
      "<type 'long'>\n",
      "1.5\n",
      "1\n"
     ]
    }
   ],
   "source": [
    "# 数值类型：python主要用的是int和float，python会将非常大的整数转换成long，所以可以存任意大小的整数。\n",
    "ival = 747389\n",
    "print(type(ival))\n",
    "ival6 = ival ** 6\n",
    "print(type(ival6))\n",
    "\n",
    "# 显式的将坟墓转换成浮点数。\n",
    "a = 3 / float(2)\n",
    "print(a)\n",
    "\n",
    "# 除不尽则丢掉小数部分的除法。\n",
    "b = 3 // 2\n",
    "print(b)"
   ]
  },
  {
   "cell_type": "code",
   "execution_count": 13,
   "metadata": {
    "scrolled": true
   },
   "outputs": [
    {
     "name": "stdout",
     "output_type": "stream",
     "text": [
      "('abcd', 'this is a abcd')\n",
      "\n",
      "This is a longer\n",
      "    longer \n",
      "        longger\n",
      "            string that sth.\n",
      "\n"
     ]
    },
    {
     "ename": "TypeError",
     "evalue": "'str' object does not support item assignment",
     "output_type": "error",
     "traceback": [
      "\u001b[0;31m---------------------------------------------------------------------------\u001b[0m",
      "\u001b[0;31mTypeError\u001b[0m                                 Traceback (most recent call last)",
      "\u001b[0;32m<ipython-input-13-e0012105dfc5>\u001b[0m in \u001b[0;36m<module>\u001b[0;34m()\u001b[0m\n\u001b[1;32m     14\u001b[0m \u001b[0;34m\u001b[0m\u001b[0m\n\u001b[1;32m     15\u001b[0m \u001b[0;31m# 字符串是不可变的，要修改就只能创建一个新的。\u001b[0m\u001b[0;34m\u001b[0m\u001b[0;34m\u001b[0m\u001b[0m\n\u001b[0;32m---> 16\u001b[0;31m \u001b[0ma\u001b[0m\u001b[0;34m[\u001b[0m\u001b[0;36m2\u001b[0m\u001b[0;34m]\u001b[0m \u001b[0;34m=\u001b[0m \u001b[0;34m'e'\u001b[0m\u001b[0;34m\u001b[0m\u001b[0m\n\u001b[0m",
      "\u001b[0;31mTypeError\u001b[0m: 'str' object does not support item assignment"
     ]
    }
   ],
   "source": [
    "# 可用‘’号，和“”号，作用相同。\n",
    "a = 'abcd'\n",
    "b = 'this is a abcd'\n",
    "print(a, b)\n",
    "\n",
    "# 有换行符的多行字符串，可用三重'''abcd'''。\n",
    "c = '''\n",
    "This is a longer\n",
    "    longer \n",
    "        longger\n",
    "            string that sth.\n",
    "'''\n",
    "print(c)\n",
    "\n",
    "# 字符串是不可变的，要修改就只能创建一个新的。\n",
    "a[2] = 'e'"
   ]
  },
  {
   "cell_type": "code",
   "execution_count": 15,
   "metadata": {},
   "outputs": [
    {
     "name": "stdout",
     "output_type": "stream",
     "text": [
      "this\\is\\a\\book\n",
      "3.12159\n"
     ]
    }
   ],
   "source": [
    "# 在字符串前加上r可以不用指定，原样解释\n",
    "s = r'this\\is\\a\\book'\n",
    "print(s)\n",
    "\n",
    "# string,bool,int,float之间的转换\n",
    "s = '3.12159'\n",
    "s_float = float(s)\n",
    "print(s_float)"
   ]
  },
  {
   "cell_type": "code",
   "execution_count": 18,
   "metadata": {},
   "outputs": [
    {
     "data": {
      "text/plain": [
       "30"
      ]
     },
     "execution_count": 18,
     "metadata": {},
     "output_type": "execute_result"
    }
   ],
   "source": [
    "# 日期和时间，datetime，date，time\n",
    "from datetime import datetime, date, time\n",
    "\n",
    "dt = datetime(2011, 10, 29, 20, 30, 21)\n",
    "dt.day\n",
    "dt.minute"
   ]
  },
  {
   "cell_type": "code",
   "execution_count": 20,
   "metadata": {},
   "outputs": [
    {
     "name": "stdout",
     "output_type": "stream",
     "text": [
      "x >= 10\n"
     ]
    }
   ],
   "source": [
    "# 控制流if,elif,else 程序员的话，应该不用多说吧。\n",
    "x = 10\n",
    "if x < 0:\n",
    "    print('x < 0')\n",
    "elif x == 0:\n",
    "    print('x == 0')\n",
    "elif 0 < x < 10:\n",
    "    print('0 < x < 10')\n",
    "else:\n",
    "    print('x >= 10')"
   ]
  },
  {
   "cell_type": "code",
   "execution_count": null,
   "metadata": {
    "collapsed": true
   },
   "outputs": [],
   "source": [
    "# for循环\n",
    "for value in collection:\n",
    "    continue # 跳过剩余部分\n",
    "    break # 让for循环完全退出\n",
    "    \n",
    "# while循环\n",
    "while x > 0:\n",
    "    # 只要x大于0一直做某事\n",
    "\n",
    "# pass，不做任何事，但是在python这个以格式来占位的语言，pass可以先占位\n",
    "if x < 0:\n",
    "    print('x < 0')\n",
    "elif x == 0:\n",
    "    # TODO\n",
    "    pass\n",
    "else:\n",
    "    print('x > 0')"
   ]
  },
  {
   "cell_type": "code",
   "execution_count": 23,
   "metadata": {},
   "outputs": [
    {
     "ename": "TypeError",
     "evalue": "float() argument must be a string or a number",
     "output_type": "error",
     "traceback": [
      "\u001b[0;31m---------------------------------------------------------------------------\u001b[0m",
      "\u001b[0;31mTypeError\u001b[0m                                 Traceback (most recent call last)",
      "\u001b[0;32m<ipython-input-23-ae940453932e>\u001b[0m in \u001b[0;36m<module>\u001b[0;34m()\u001b[0m\n\u001b[1;32m     19\u001b[0m         \u001b[0;32mreturn\u001b[0m \u001b[0mx\u001b[0m\u001b[0;34m\u001b[0m\u001b[0m\n\u001b[1;32m     20\u001b[0m \u001b[0;34m\u001b[0m\u001b[0m\n\u001b[0;32m---> 21\u001b[0;31m \u001b[0mattempt_float\u001b[0m\u001b[0;34m(\u001b[0m\u001b[0;34m(\u001b[0m\u001b[0;36m1\u001b[0m\u001b[0;34m,\u001b[0m \u001b[0;36m2\u001b[0m\u001b[0;34m)\u001b[0m\u001b[0;34m)\u001b[0m\u001b[0;34m\u001b[0m\u001b[0m\n\u001b[0m",
      "\u001b[0;32m<ipython-input-23-ae940453932e>\u001b[0m in \u001b[0;36mattempt_float\u001b[0;34m(x)\u001b[0m\n\u001b[1;32m     15\u001b[0m \u001b[0;32mdef\u001b[0m \u001b[0mattempt_float\u001b[0m\u001b[0;34m(\u001b[0m\u001b[0mx\u001b[0m\u001b[0;34m)\u001b[0m\u001b[0;34m:\u001b[0m\u001b[0;34m\u001b[0m\u001b[0m\n\u001b[1;32m     16\u001b[0m     \u001b[0;32mtry\u001b[0m\u001b[0;34m:\u001b[0m  \u001b[0;31m# 成功时\u001b[0m\u001b[0;34m\u001b[0m\u001b[0m\n\u001b[0;32m---> 17\u001b[0;31m         \u001b[0;32mreturn\u001b[0m \u001b[0mfloat\u001b[0m\u001b[0;34m(\u001b[0m\u001b[0mx\u001b[0m\u001b[0;34m)\u001b[0m\u001b[0;34m\u001b[0m\u001b[0m\n\u001b[0m\u001b[1;32m     18\u001b[0m     \u001b[0;32mexcept\u001b[0m \u001b[0mValueError\u001b[0m\u001b[0;34m:\u001b[0m  \u001b[0;31m# 失败时\u001b[0m\u001b[0;34m\u001b[0m\u001b[0m\n\u001b[1;32m     19\u001b[0m         \u001b[0;32mreturn\u001b[0m \u001b[0mx\u001b[0m\u001b[0;34m\u001b[0m\u001b[0m\n",
      "\u001b[0;31mTypeError\u001b[0m: float() argument must be a string or a number"
     ]
    }
   ],
   "source": [
    "# 错误处理，如果我们想优雅的处理错误而不是程序崩溃可以用到：异常处理\n",
    "    # ValueError\n",
    "    # TypeError之类的\n",
    "\n",
    "def attempt_float(x):\n",
    "    try:  # 成功时\n",
    "        return float(x)\n",
    "    except:  # 失败时\n",
    "        return x\n",
    "\n",
    "attempt_float('abc')\n",
    "attempt_float('1.234')\n",
    "\n",
    "# 如果你只希望处理某一种类型的错误\n",
    "def attempt_float(x):\n",
    "    try:  # 成功时\n",
    "        return float(x)\n",
    "    except ValueError:  # 失败时\n",
    "        return x\n",
    "\n",
    "# 比如此时，我们希望这个bug能够产生，从而避免隐形更严重的bug\n",
    "attempt_float((1, 2))\n",
    "\n",
    "# 如果你不想处理任何异常，而为了无论成功与否都执行某一部分代码\n",
    "f = open(path, 'w')\n",
    "try:\n",
    "    write_to_file(f)\n",
    "finally:\n",
    "    f.close()\n",
    "\n",
    "# 让有些代码只在尝试成功时执行\n",
    "f = open(path, 'W')\n",
    "try: # 尝试某操作\n",
    "    write_to_file(f)\n",
    "except: # 失败的时候\n",
    "    print('Failed')\n",
    "else: # 成功的时候\n",
    "    print('Scceeded')\n",
    "finally: # 无论怎样都执行\n",
    "    f.close()"
   ]
  },
  {
   "cell_type": "code",
   "execution_count": 26,
   "metadata": {},
   "outputs": [
    {
     "name": "stdout",
     "output_type": "stream",
     "text": [
      "[0, 1, 2, 3, 4, 5, 6, 7, 8, 9]\n",
      "[0, 2, 4, 6, 8, 10, 12, 14, 16, 18]\n",
      "1\n",
      "2\n",
      "3\n",
      "4\n"
     ]
    }
   ],
   "source": [
    "# range和xrange\n",
    "\n",
    "# range函数用于产生一组间隔平均的整数\n",
    "a = range(10)\n",
    "print(a)\n",
    "\n",
    "# range函数产生不包括末端值\n",
    "b = range(0, 20, 2)\n",
    "print(b)\n",
    "\n",
    "# range常用语按照索引对序列迭代\n",
    "seq = [1, 2, 3, 4]\n",
    "for i in range(len(seq)):\n",
    "    val = seq[i]\n",
    "    print(val)\n",
    "\n",
    "# range 返回的是迭代器，和xrange一样，也就是说函数式的，非严格的懒惰计算"
   ]
  },
  {
   "cell_type": "code",
   "execution_count": null,
   "metadata": {
    "collapsed": true
   },
   "outputs": [],
   "source": [
    "# 三元表达式\n",
    "value = true-expr if condition else false-expr\n",
    "# 和下面的表达式是一样的\n",
    "if condition:\n",
    "    value = true-expr\n",
    "else:\n",
    "    value = false-expr"
   ]
  },
  {
   "cell_type": "code",
   "execution_count": 33,
   "metadata": {},
   "outputs": [
    {
     "name": "stdout",
     "output_type": "stream",
     "text": [
      "(4, 5, 6)\n",
      "(5, 6, 7)\n"
     ]
    },
    {
     "data": {
      "text/plain": [
       "1"
      ]
     },
     "execution_count": 33,
     "metadata": {},
     "output_type": "execute_result"
    }
   ],
   "source": [
    "# 元组：一维，定长，不可变对象\n",
    "tup = 4, 5, 6\n",
    "print(tup)\n",
    "\n",
    "tup = (5, 6, 7)\n",
    "print(tup)\n",
    "\n",
    "# 创建完成的元组不能更改位置上的元素，但是可以增加元组本身的长度\n",
    "# 元组可以拆包使用，可以很轻松的交换变量名\n",
    "a, b, c = tup\n",
    "a, b = b, a\n",
    "\n",
    "# 元组的方法，count用于产生计算有多少个此元素\n",
    "tup.count(5)"
   ]
  },
  {
   "cell_type": "code",
   "execution_count": 41,
   "metadata": {
    "scrolled": true
   },
   "outputs": [
    {
     "name": "stdout",
     "output_type": "stream",
     "text": [
      "[2, 3, 4, None, 'dwarf']\n",
      "[2, 'red', 3, 4, None, 'dwarf']\n",
      "[2, 'red', 3, 4, None]\n",
      "[4, None, 'foo', 7, 8, (2, 3)]\n"
     ]
    }
   ],
   "source": [
    "# 和元组比起来，list列表是变长的，内容也是可以修改的。\n",
    "a_list = [2, 3, 4, None]\n",
    "tup = ('foo', 'bar', 'baz')\n",
    "# b_list = list(tup)\n",
    "\n",
    "a_list.append('dwarf')\n",
    "print(a_list)\n",
    "\n",
    "# insert的计算量要比append大，在很大的数据里不建议这么操作\n",
    "a_list.insert(1, 'red')\n",
    "print(a_list)\n",
    "\n",
    "a_list.remove('dwarf')\n",
    "print(a_list)\n",
    "\n",
    "# 用+可以完成列表的结合，列表的结合十分消耗资源，它要用心得列表去接受组成列表内部元素的复制\n",
    "c_list = [4, None, 'foo'] + [7, 8, (2, 3)]\n",
    "print(c_list)\n",
    "\n"
   ]
  },
  {
   "cell_type": "code",
   "execution_count": 43,
   "metadata": {},
   "outputs": [
    {
     "name": "stdout",
     "output_type": "stream",
     "text": [
      "[2, 3, 4, 5, 7, 8]\n"
     ]
    }
   ],
   "source": [
    "# 排序\n",
    "a = [7,3,5,8,4,2]\n",
    "a.sort()\n",
    "print(a)"
   ]
  },
  {
   "cell_type": "code",
   "execution_count": 48,
   "metadata": {},
   "outputs": [
    {
     "name": "stdout",
     "output_type": "stream",
     "text": [
      "[2, 5, 8, 9]\n",
      "[3, 2, 5, 8, 9, 0]\n",
      "[3, 5, 9]\n",
      "[0, 9, 8, 5, 2, 3]\n"
     ]
    }
   ],
   "source": [
    "# 终于到了切片了！python对列表数据的强大处理方式\n",
    "    # 可以用在数组，元组，，Numpy数组等，基本形式[start：stop]\n",
    "    # start索引包含在内，stop索引不包含在内，元素数=stop-start\n",
    "\n",
    "seq = [3,2,5,8,9,0]\n",
    "print(seq[1:5])\n",
    "\n",
    "# start和stop都是可以省略的，此时他们分别默认序列的起始和结尾\n",
    "print(seq[:])\n",
    "\n",
    "# [开始：结尾：步长]\n",
    "print(seq[::2])\n",
    "\n",
    "# -1表示反向步长，是个巧妙的反序方法\n",
    "print(seq[::-1])"
   ]
  },
  {
   "cell_type": "code",
   "execution_count": 62,
   "metadata": {},
   "outputs": [
    {
     "name": "stdout",
     "output_type": "stream",
     "text": [
      "('0', 0, 'a')\n",
      "('0', 1, 'asdf a')\n",
      "('0', 2, 1)\n",
      "('0', 3, 2)\n",
      "('0', 4, 3)\n",
      "('0', 5, 4)\n",
      "('1:', {'baz': 2, 'foo': 0, 'bar': 1})\n",
      "('2:', [3, 2, 5, 8, 9, 0])\n",
      "('3:', [('foo', 'one'), ('bar', 'two'), ('baz', 'three')])\n",
      "('4:', 0, 'foo', 'one')\n",
      "('4:', 1, 'bar', 'two')\n",
      "('4:', 2, 'baz', 'three')\n",
      "('5:', <rangeiterator object at 0x107e47bd0>)\n"
     ]
    }
   ],
   "source": [
    "# python内置了一些很不错的序列函数\n",
    "\n",
    "# enumerate函数可以逐个返回序列的(i, value)元组\n",
    "collection = ['a', 'asdf a', 1, 2, 3, 4]\n",
    "for i, value in enumerate(collection):\n",
    "    print('0', i, value)\n",
    "    \n",
    "# enumerate还可以求取一个将序列值映射到其所在位置的字典\n",
    "b_list = ['foo', 'bar', 'baz']\n",
    "mapping = dict((v, i) for i, v in enumerate(b_list)) # 这里是函数式的\n",
    "print('1:', mapping)\n",
    "\n",
    "# sorted可以将任何序列返回为一个新的有序列表\n",
    "seq = [3,2,5,8,9,0]\n",
    "sorted(seq)\n",
    "print('2:',seq)\n",
    "\n",
    "# zip用于将多个序列（元组，列表等）元素配对，从而产生一个新的元组列表\n",
    "seq1 = ['foo', 'bar', 'baz']\n",
    "seq2 = ['one', 'two', 'three', 'four']\n",
    "tuple1 = zip(seq1, seq2)\n",
    "print('3:', tuple1)\n",
    "\n",
    "for i, (a, b) in enumerate(zip(seq1, seq2)):\n",
    "    print('4:', i, a, b)\n",
    "    \n",
    "# reversed用于按照逆序迭代序列中的元素\n",
    "c_list = reversed(xrange(10))\n",
    "print('5:', c_list)"
   ]
  },
  {
   "cell_type": "code",
   "execution_count": 73,
   "metadata": {},
   "outputs": [
    {
     "name": "stdout",
     "output_type": "stream",
     "text": [
      "[1, 2, 3]\n",
      "('keys:', ['a', 'dummy', 'b'])\n",
      "('values:', [(1, 2), 'anuther value', [1, 2, 3]])\n",
      "('update d1:', {'a': (1, 2), 'dummy': 'anuther value', 'c': 3, 'b': 1})\n",
      "('mapping:', {0: 4, 1: 3, 2: 2, 3: 1, 4: 0})\n",
      "('value1:', 3, '; value2:', 100)\n"
     ]
    }
   ],
   "source": [
    "# 字典：{key: value} ,key一定要可哈希的\n",
    "d1 = {'a': (1, 2), 'b': [1, 2, 3]}\n",
    "print(d1['b'])\n",
    "\n",
    "# 判断字典中存在某个健\n",
    "'b' in d1\n",
    "\n",
    "# del和pop可以删除值\n",
    "d1[5] = 'some value'\n",
    "d1['dummy'] = 'anuther value'\n",
    "del d1[5]\n",
    "\n",
    "# keys和values用于获取键和值的列表迭代器\n",
    "print('keys:', d1.keys())\n",
    "print('values:', d1.values())\n",
    "\n",
    "# 用update方法，一个字典可以被合并到另一个字典中，同时相同的key将被覆盖\n",
    "d1.update({'b': 1, 'c': 3})\n",
    "print('update d1:', d1)\n",
    "\n",
    "# 从序列类型创建字典\n",
    "mapping = dict(zip(range(5), reversed(range(5))))\n",
    "print('mapping:', mapping)\n",
    "\n",
    "# 字典自己可以返回默认值 value = some_dic.get(key, default_value)\n",
    "value1 = d1.get('c', 100)\n",
    "value2 = d1.get('d', 100)\n",
    "print('value1:', value1, '; value2:', value2)\n",
    "\n",
    "# 字典的值可以是任何python对象，但是键必须是不可变对象如：标量类型，元组，既可哈希性hash"
   ]
  },
  {
   "cell_type": "code",
   "execution_count": 78,
   "metadata": {},
   "outputs": [
    {
     "name": "stdout",
     "output_type": "stream",
     "text": [
      "('|&-:', set([1, 2, 3, 4, 5, 6, 7, 8, 9]), set([3, 4, 5, 6]), set([1, 2]))\n"
     ]
    },
    {
     "data": {
      "text/plain": [
       "(True, False)"
      ]
     },
     "execution_count": 78,
     "metadata": {},
     "output_type": "execute_result"
    }
   ],
   "source": [
    "# 集合set是由唯一的元素组陈的无序集合\n",
    "\n",
    "# 创建\n",
    "set([2, 3, 2, 1, 4, 4])\n",
    "{2, 1, 3, 4, 7}\n",
    "\n",
    "# 并，交，差，异或\n",
    "a = {1, 2, 3, 4, 5, 6}\n",
    "b = {3, 4, 5, 6, 7, 8, 9}\n",
    "c = {1, 2, 3}\n",
    "print('|&-:', a|b, a&b, a-b)\n",
    "\n",
    "# 判断一个集合是否是另一个的子集\n",
    "c.issubset(a), c.issubset(b)\n",
    "\n"
   ]
  },
  {
   "cell_type": "code",
   "execution_count": 85,
   "metadata": {},
   "outputs": [
    {
     "name": "stdout",
     "output_type": "stream",
     "text": [
      "('a_list:', ['AAB', 'ABBCDD', 'BAAC'])\n",
      "('a_dic:', {1: 'a', 2: 'ab', 3: 'aab', 4: 'baac', 6: 'abbcdd'})\n"
     ]
    }
   ],
   "source": [
    "# 列表，集合以及字典的推导式，酷酷的东西来了\n",
    "strings = ['a', 'aa', 'aab', 'ab', 'abbcdd', 'baac']\n",
    "\n",
    "# 列表基本推导式：[expr for val in collection if condition]。仍然是函数式的吧。\n",
    "a_list = [x.upper() for x in strings if len(x) > 2]\n",
    "print('a_list:', a_list)\n",
    "\n",
    "# 字典基本推导式：{key-expr: value-expr for value in collection if condition}。\n",
    "a_dic = {len(value): value for value in strings if len(x) > 2}\n",
    "print('a_dic:', a_dic)\n",
    "\n",
    "# 嵌套列表推导式，更酷的来了！\n",
    "data = [strings, strings]\n",
    "\n",
    "# [word for ((words in data) for (word in words)) if word.count('a') >= 2]\n",
    "result = [word for words in data for word in words if word.count('a') >= 2]"
   ]
  },
  {
   "cell_type": "code",
   "execution_count": null,
   "metadata": {
    "collapsed": true
   },
   "outputs": [],
   "source": []
  },
  {
   "cell_type": "code",
   "execution_count": null,
   "metadata": {
    "collapsed": true
   },
   "outputs": [],
   "source": []
  },
  {
   "cell_type": "code",
   "execution_count": null,
   "metadata": {
    "collapsed": true
   },
   "outputs": [],
   "source": []
  },
  {
   "cell_type": "code",
   "execution_count": null,
   "metadata": {
    "collapsed": true
   },
   "outputs": [],
   "source": []
  },
  {
   "cell_type": "code",
   "execution_count": null,
   "metadata": {
    "collapsed": true
   },
   "outputs": [],
   "source": []
  },
  {
   "cell_type": "code",
   "execution_count": null,
   "metadata": {
    "collapsed": true
   },
   "outputs": [],
   "source": []
  },
  {
   "cell_type": "code",
   "execution_count": null,
   "metadata": {
    "collapsed": true
   },
   "outputs": [],
   "source": []
  },
  {
   "cell_type": "code",
   "execution_count": null,
   "metadata": {
    "collapsed": true
   },
   "outputs": [],
   "source": []
  },
  {
   "cell_type": "code",
   "execution_count": null,
   "metadata": {
    "collapsed": true
   },
   "outputs": [],
   "source": []
  }
 ],
 "metadata": {
  "kernelspec": {
   "display_name": "Python 2",
   "language": "python",
   "name": "python2"
  },
  "language_info": {
   "codemirror_mode": {
    "name": "ipython",
    "version": 2
   },
   "file_extension": ".py",
   "mimetype": "text/x-python",
   "name": "python",
   "nbconvert_exporter": "python",
   "pygments_lexer": "ipython2",
   "version": "2.7.12"
  }
 },
 "nbformat": 4,
 "nbformat_minor": 2
}
